{
 "cells": [
  {
   "cell_type": "code",
   "execution_count": 3,
   "id": "69cb75f5",
   "metadata": {},
   "outputs": [],
   "source": [
    "import tabula\n",
    "from tabula import read_pdf\n",
    "import pandas as pd\n",
    "import numpy as np\n",
    "import re"
   ]
  },
  {
   "cell_type": "code",
   "execution_count": 2,
   "id": "c9bb337f",
   "metadata": {},
   "outputs": [],
   "source": [
    "pres_tab = tabula.read_pdf('https://inecnigeria.org/wp-content/uploads/2022/09/Final-List-of-Candidates-for-National-Elections-1.pdf', pages= '5-7',pandas_options={'header':None})\n",
    "house_tab = tabula.read_pdf('https://inecnigeria.org/wp-content/uploads/2022/09/Final-List-of-Candidates-for-National-Elections-1.pdf', pages= '144-409',pandas_options={'header':None},)\n",
    "senate_tab = tabula.read_pdf('https://inecnigeria.org/wp-content/uploads/2022/09/Final-List-of-Candidates-for-National-Elections-1.pdf', pages= '10-141',pandas_options={'header':None},)"
   ]
  },
  {
   "cell_type": "markdown",
   "id": "397fdc44",
   "metadata": {},
   "source": [
    "<h2>President Data</h2>"
   ]
  },
  {
   "cell_type": "code",
   "execution_count": 4,
   "id": "bde20eb6",
   "metadata": {},
   "outputs": [],
   "source": [
    "columns = pres_tab[0].values.tolist()[0]"
   ]
  },
  {
   "cell_type": "code",
   "execution_count": 5,
   "id": "fa0a77d1",
   "metadata": {},
   "outputs": [
    {
     "name": "stdout",
     "output_type": "stream",
     "text": [
      "['S/N', 'CONSTITUENCY', 'PARTY', 'POSITION', 'CANDIDATE_NAME', 'PWD', 'AGE', 'GENDER', 'QUALIFICATIONS', 'REMARKS']\n"
     ]
    }
   ],
   "source": [
    "print(columns)"
   ]
  },
  {
   "cell_type": "code",
   "execution_count": 6,
   "id": "45971844",
   "metadata": {},
   "outputs": [],
   "source": [
    "pres_tab[0]= pres_tab[0].iloc[1:]"
   ]
  },
  {
   "cell_type": "code",
   "execution_count": 7,
   "id": "c0e2e1a9",
   "metadata": {},
   "outputs": [],
   "source": [
    "for df in pres_tab:\n",
    "    df.columns=columns"
   ]
  },
  {
   "cell_type": "code",
   "execution_count": 9,
   "id": "b38c435b",
   "metadata": {},
   "outputs": [],
   "source": [
    "pres_df = pd.concat(pres_tab)"
   ]
  },
  {
   "cell_type": "code",
   "execution_count": 10,
   "id": "d6db639a",
   "metadata": {},
   "outputs": [
    {
     "data": {
      "text/html": [
       "<div>\n",
       "<style scoped>\n",
       "    .dataframe tbody tr th:only-of-type {\n",
       "        vertical-align: middle;\n",
       "    }\n",
       "\n",
       "    .dataframe tbody tr th {\n",
       "        vertical-align: top;\n",
       "    }\n",
       "\n",
       "    .dataframe thead th {\n",
       "        text-align: right;\n",
       "    }\n",
       "</style>\n",
       "<table border=\"1\" class=\"dataframe\">\n",
       "  <thead>\n",
       "    <tr style=\"text-align: right;\">\n",
       "      <th></th>\n",
       "      <th>S/N</th>\n",
       "      <th>CONSTITUENCY</th>\n",
       "      <th>PARTY</th>\n",
       "      <th>POSITION</th>\n",
       "      <th>CANDIDATE_NAME</th>\n",
       "      <th>PWD</th>\n",
       "      <th>AGE</th>\n",
       "      <th>GENDER</th>\n",
       "      <th>QUALIFICATIONS</th>\n",
       "      <th>REMARKS</th>\n",
       "    </tr>\n",
       "  </thead>\n",
       "  <tbody>\n",
       "    <tr>\n",
       "      <th>7</th>\n",
       "      <td>32</td>\n",
       "      <td>NIGERIA</td>\n",
       "      <td>SDP</td>\n",
       "      <td>Vice-\\rPresidential</td>\n",
       "      <td>BUHARI YUSUF</td>\n",
       "      <td>None</td>\n",
       "      <td>50</td>\n",
       "      <td>M</td>\n",
       "      <td>FLSC SSCE MSC</td>\n",
       "      <td>NaN</td>\n",
       "    </tr>\n",
       "    <tr>\n",
       "      <th>8</th>\n",
       "      <td>33</td>\n",
       "      <td>NIGERIA</td>\n",
       "      <td>YPP</td>\n",
       "      <td>Presidential</td>\n",
       "      <td>ADO-IBRAHIM\\rABDULMALIK</td>\n",
       "      <td>None</td>\n",
       "      <td>58</td>\n",
       "      <td>M</td>\n",
       "      <td>PREPARATORY HIGH SCHOOL\\rDIPLOMA BACHELOR OF S...</td>\n",
       "      <td>NaN</td>\n",
       "    </tr>\n",
       "    <tr>\n",
       "      <th>9</th>\n",
       "      <td>34</td>\n",
       "      <td>NIGERIA</td>\n",
       "      <td>YPP</td>\n",
       "      <td>Vice-\\rPresidential</td>\n",
       "      <td>ENYINNA MICHAEL\\rKASARACHI</td>\n",
       "      <td>None</td>\n",
       "      <td>44</td>\n",
       "      <td>M</td>\n",
       "      <td>FIRST LEAVING CERTIFICATE\\rWAEC BSC</td>\n",
       "      <td>NaN</td>\n",
       "    </tr>\n",
       "    <tr>\n",
       "      <th>10</th>\n",
       "      <td>35</td>\n",
       "      <td>NIGERIA</td>\n",
       "      <td>ZLP</td>\n",
       "      <td>Presidential</td>\n",
       "      <td>NWANYANWU DANIEL\\rDABERECHUKWU</td>\n",
       "      <td>None</td>\n",
       "      <td>62</td>\n",
       "      <td>M</td>\n",
       "      <td>WEST AFRICAN SCHOOL\\rCERTIFICATE BACHELOR OF LAWS</td>\n",
       "      <td>NaN</td>\n",
       "    </tr>\n",
       "    <tr>\n",
       "      <th>11</th>\n",
       "      <td>36</td>\n",
       "      <td>NIGERIA</td>\n",
       "      <td>ZLP</td>\n",
       "      <td>Vice-\\rPresidential</td>\n",
       "      <td>ABUBAKAR JIBRIN\\rIBRAHIM RAMALAN</td>\n",
       "      <td>None</td>\n",
       "      <td>55</td>\n",
       "      <td>M</td>\n",
       "      <td>DIPLOMA IN LAW</td>\n",
       "      <td>NaN</td>\n",
       "    </tr>\n",
       "  </tbody>\n",
       "</table>\n",
       "</div>"
      ],
      "text/plain": [
       "   S/N CONSTITUENCY PARTY             POSITION  \\\n",
       "7   32      NIGERIA   SDP  Vice-\\rPresidential   \n",
       "8   33      NIGERIA   YPP         Presidential   \n",
       "9   34      NIGERIA   YPP  Vice-\\rPresidential   \n",
       "10  35      NIGERIA   ZLP         Presidential   \n",
       "11  36      NIGERIA   ZLP  Vice-\\rPresidential   \n",
       "\n",
       "                      CANDIDATE_NAME   PWD AGE GENDER  \\\n",
       "7                       BUHARI YUSUF  None  50      M   \n",
       "8            ADO-IBRAHIM\\rABDULMALIK  None  58      M   \n",
       "9         ENYINNA MICHAEL\\rKASARACHI  None  44      M   \n",
       "10    NWANYANWU DANIEL\\rDABERECHUKWU  None  62      M   \n",
       "11  ABUBAKAR JIBRIN\\rIBRAHIM RAMALAN  None  55      M   \n",
       "\n",
       "                                       QUALIFICATIONS REMARKS  \n",
       "7                                       FLSC SSCE MSC     NaN  \n",
       "8   PREPARATORY HIGH SCHOOL\\rDIPLOMA BACHELOR OF S...     NaN  \n",
       "9                 FIRST LEAVING CERTIFICATE\\rWAEC BSC     NaN  \n",
       "10  WEST AFRICAN SCHOOL\\rCERTIFICATE BACHELOR OF LAWS     NaN  \n",
       "11                                     DIPLOMA IN LAW     NaN  "
      ]
     },
     "execution_count": 10,
     "metadata": {},
     "output_type": "execute_result"
    }
   ],
   "source": [
    "pres_df.tail()"
   ]
  },
  {
   "cell_type": "code",
   "execution_count": 11,
   "id": "b2d3412f",
   "metadata": {},
   "outputs": [
    {
     "data": {
      "text/plain": [
       "(36, 10)"
      ]
     },
     "execution_count": 11,
     "metadata": {},
     "output_type": "execute_result"
    }
   ],
   "source": [
    "pres_df.shape"
   ]
  },
  {
   "cell_type": "code",
   "execution_count": 12,
   "id": "9e57c333",
   "metadata": {},
   "outputs": [
    {
     "name": "stdout",
     "output_type": "stream",
     "text": [
      "<class 'pandas.core.frame.DataFrame'>\n",
      "Int64Index: 36 entries, 1 to 11\n",
      "Data columns (total 10 columns):\n",
      " #   Column          Non-Null Count  Dtype \n",
      "---  ------          --------------  ----- \n",
      " 0   S/N             36 non-null     object\n",
      " 1   CONSTITUENCY    36 non-null     object\n",
      " 2   PARTY           36 non-null     object\n",
      " 3   POSITION        36 non-null     object\n",
      " 4   CANDIDATE_NAME  36 non-null     object\n",
      " 5   PWD             36 non-null     object\n",
      " 6   AGE             36 non-null     object\n",
      " 7   GENDER          36 non-null     object\n",
      " 8   QUALIFICATIONS  36 non-null     object\n",
      " 9   REMARKS         0 non-null      object\n",
      "dtypes: object(10)\n",
      "memory usage: 3.1+ KB\n"
     ]
    }
   ],
   "source": [
    "pres_df.info()"
   ]
  },
  {
   "cell_type": "code",
   "execution_count": 13,
   "id": "ed25c0e3",
   "metadata": {},
   "outputs": [
    {
     "data": {
      "text/plain": [
       "S/N                0\n",
       "CONSTITUENCY       0\n",
       "PARTY              0\n",
       "POSITION           0\n",
       "CANDIDATE_NAME     0\n",
       "PWD                0\n",
       "AGE                0\n",
       "GENDER             0\n",
       "QUALIFICATIONS     0\n",
       "REMARKS           36\n",
       "dtype: int64"
      ]
     },
     "execution_count": 13,
     "metadata": {},
     "output_type": "execute_result"
    }
   ],
   "source": [
    "pres_df.isnull().sum()"
   ]
  },
  {
   "cell_type": "code",
   "execution_count": 14,
   "id": "cdffedbb",
   "metadata": {},
   "outputs": [
    {
     "data": {
      "text/plain": [
       "S/N               object\n",
       "CONSTITUENCY      object\n",
       "PARTY             object\n",
       "POSITION          object\n",
       "CANDIDATE_NAME    object\n",
       "PWD               object\n",
       "AGE               object\n",
       "GENDER            object\n",
       "QUALIFICATIONS    object\n",
       "REMARKS           object\n",
       "dtype: object"
      ]
     },
     "execution_count": 14,
     "metadata": {},
     "output_type": "execute_result"
    }
   ],
   "source": [
    "pres_df.dtypes"
   ]
  },
  {
   "cell_type": "code",
   "execution_count": 16,
   "id": "e6556049",
   "metadata": {},
   "outputs": [],
   "source": [
    "pres_df['AGE'] = pres_df['AGE'].astype('int64')"
   ]
  },
  {
   "cell_type": "code",
   "execution_count": 45,
   "id": "a18335ad",
   "metadata": {},
   "outputs": [],
   "source": [
    "pres_df['remarks'] = pres_df['remarks'].astype('str')"
   ]
  },
  {
   "cell_type": "code",
   "execution_count": 46,
   "id": "99470646",
   "metadata": {},
   "outputs": [
    {
     "data": {
      "text/plain": [
       "s/n               object\n",
       "constituency      object\n",
       "party             object\n",
       "position          object\n",
       "candidate_name    object\n",
       "pwd               object\n",
       "age                int64\n",
       "gender            object\n",
       "qualifications    object\n",
       "remarks           object\n",
       "source            object\n",
       "dtype: object"
      ]
     },
     "execution_count": 46,
     "metadata": {},
     "output_type": "execute_result"
    }
   ],
   "source": [
    "pres_df.dtypes"
   ]
  },
  {
   "cell_type": "code",
   "execution_count": 17,
   "id": "b87f2313",
   "metadata": {},
   "outputs": [
    {
     "name": "stdout",
     "output_type": "stream",
     "text": [
      "0\n"
     ]
    }
   ],
   "source": [
    "print(pres_df.duplicated().sum())"
   ]
  },
  {
   "cell_type": "code",
   "execution_count": 18,
   "id": "c6669e3d",
   "metadata": {},
   "outputs": [],
   "source": [
    "# removing newlines, carriage returns, tabs\n",
    "#answer gotten from https://gist.github.com/smram/d6ded3c9028272360eb65bcab564a18a\n",
    "pres_df.replace(to_replace=[r\"\\\\t|\\\\n|\\\\r\", \"\\t|\\n|\\r\"], value=[\" \",\" \"], regex=True, inplace=True)"
   ]
  },
  {
   "cell_type": "code",
   "execution_count": 21,
   "id": "64a0788e",
   "metadata": {},
   "outputs": [],
   "source": [
    "pres_df['source'] = 'https://inecnigeria.org/wp-content/uploads/2022/09/Final-List-of-Candidates-for-National-Elections-1.pdf'"
   ]
  },
  {
   "cell_type": "code",
   "execution_count": 23,
   "id": "f0bef8ad",
   "metadata": {},
   "outputs": [],
   "source": [
    "pres_df.columns = pres_df.columns.str.lower()"
   ]
  },
  {
   "cell_type": "code",
   "execution_count": 25,
   "id": "fe69d424",
   "metadata": {},
   "outputs": [
    {
     "data": {
      "text/html": [
       "<div>\n",
       "<style scoped>\n",
       "    .dataframe tbody tr th:only-of-type {\n",
       "        vertical-align: middle;\n",
       "    }\n",
       "\n",
       "    .dataframe tbody tr th {\n",
       "        vertical-align: top;\n",
       "    }\n",
       "\n",
       "    .dataframe thead th {\n",
       "        text-align: right;\n",
       "    }\n",
       "</style>\n",
       "<table border=\"1\" class=\"dataframe\">\n",
       "  <thead>\n",
       "    <tr style=\"text-align: right;\">\n",
       "      <th></th>\n",
       "      <th>s/n</th>\n",
       "      <th>constituency</th>\n",
       "      <th>party</th>\n",
       "      <th>position</th>\n",
       "      <th>candidate_name</th>\n",
       "      <th>pwd</th>\n",
       "      <th>age</th>\n",
       "      <th>gender</th>\n",
       "      <th>qualifications</th>\n",
       "      <th>remarks</th>\n",
       "      <th>source</th>\n",
       "    </tr>\n",
       "  </thead>\n",
       "  <tbody>\n",
       "    <tr>\n",
       "      <th>7</th>\n",
       "      <td>32</td>\n",
       "      <td>NIGERIA</td>\n",
       "      <td>SDP</td>\n",
       "      <td>Vice- Presidential</td>\n",
       "      <td>BUHARI YUSUF</td>\n",
       "      <td>None</td>\n",
       "      <td>50</td>\n",
       "      <td>M</td>\n",
       "      <td>FLSC SSCE MSC</td>\n",
       "      <td>NaN</td>\n",
       "      <td>https://inecnigeria.org/wp-content/uploads/202...</td>\n",
       "    </tr>\n",
       "    <tr>\n",
       "      <th>8</th>\n",
       "      <td>33</td>\n",
       "      <td>NIGERIA</td>\n",
       "      <td>YPP</td>\n",
       "      <td>Presidential</td>\n",
       "      <td>ADO-IBRAHIM ABDULMALIK</td>\n",
       "      <td>None</td>\n",
       "      <td>58</td>\n",
       "      <td>M</td>\n",
       "      <td>PREPARATORY HIGH SCHOOL DIPLOMA BACHELOR OF SC...</td>\n",
       "      <td>NaN</td>\n",
       "      <td>https://inecnigeria.org/wp-content/uploads/202...</td>\n",
       "    </tr>\n",
       "    <tr>\n",
       "      <th>9</th>\n",
       "      <td>34</td>\n",
       "      <td>NIGERIA</td>\n",
       "      <td>YPP</td>\n",
       "      <td>Vice- Presidential</td>\n",
       "      <td>ENYINNA MICHAEL KASARACHI</td>\n",
       "      <td>None</td>\n",
       "      <td>44</td>\n",
       "      <td>M</td>\n",
       "      <td>FIRST LEAVING CERTIFICATE WAEC BSC</td>\n",
       "      <td>NaN</td>\n",
       "      <td>https://inecnigeria.org/wp-content/uploads/202...</td>\n",
       "    </tr>\n",
       "    <tr>\n",
       "      <th>10</th>\n",
       "      <td>35</td>\n",
       "      <td>NIGERIA</td>\n",
       "      <td>ZLP</td>\n",
       "      <td>Presidential</td>\n",
       "      <td>NWANYANWU DANIEL DABERECHUKWU</td>\n",
       "      <td>None</td>\n",
       "      <td>62</td>\n",
       "      <td>M</td>\n",
       "      <td>WEST AFRICAN SCHOOL CERTIFICATE BACHELOR OF LAWS</td>\n",
       "      <td>NaN</td>\n",
       "      <td>https://inecnigeria.org/wp-content/uploads/202...</td>\n",
       "    </tr>\n",
       "    <tr>\n",
       "      <th>11</th>\n",
       "      <td>36</td>\n",
       "      <td>NIGERIA</td>\n",
       "      <td>ZLP</td>\n",
       "      <td>Vice- Presidential</td>\n",
       "      <td>ABUBAKAR JIBRIN IBRAHIM RAMALAN</td>\n",
       "      <td>None</td>\n",
       "      <td>55</td>\n",
       "      <td>M</td>\n",
       "      <td>DIPLOMA IN LAW</td>\n",
       "      <td>NaN</td>\n",
       "      <td>https://inecnigeria.org/wp-content/uploads/202...</td>\n",
       "    </tr>\n",
       "  </tbody>\n",
       "</table>\n",
       "</div>"
      ],
      "text/plain": [
       "   s/n constituency party            position  \\\n",
       "7   32      NIGERIA   SDP  Vice- Presidential   \n",
       "8   33      NIGERIA   YPP        Presidential   \n",
       "9   34      NIGERIA   YPP  Vice- Presidential   \n",
       "10  35      NIGERIA   ZLP        Presidential   \n",
       "11  36      NIGERIA   ZLP  Vice- Presidential   \n",
       "\n",
       "                     candidate_name   pwd  age gender  \\\n",
       "7                      BUHARI YUSUF  None   50      M   \n",
       "8            ADO-IBRAHIM ABDULMALIK  None   58      M   \n",
       "9         ENYINNA MICHAEL KASARACHI  None   44      M   \n",
       "10    NWANYANWU DANIEL DABERECHUKWU  None   62      M   \n",
       "11  ABUBAKAR JIBRIN IBRAHIM RAMALAN  None   55      M   \n",
       "\n",
       "                                       qualifications  remarks  \\\n",
       "7                                       FLSC SSCE MSC      NaN   \n",
       "8   PREPARATORY HIGH SCHOOL DIPLOMA BACHELOR OF SC...      NaN   \n",
       "9                  FIRST LEAVING CERTIFICATE WAEC BSC      NaN   \n",
       "10   WEST AFRICAN SCHOOL CERTIFICATE BACHELOR OF LAWS      NaN   \n",
       "11                                     DIPLOMA IN LAW      NaN   \n",
       "\n",
       "                                               source  \n",
       "7   https://inecnigeria.org/wp-content/uploads/202...  \n",
       "8   https://inecnigeria.org/wp-content/uploads/202...  \n",
       "9   https://inecnigeria.org/wp-content/uploads/202...  \n",
       "10  https://inecnigeria.org/wp-content/uploads/202...  \n",
       "11  https://inecnigeria.org/wp-content/uploads/202...  "
      ]
     },
     "execution_count": 25,
     "metadata": {},
     "output_type": "execute_result"
    }
   ],
   "source": [
    "pres_df.tail()"
   ]
  },
  {
   "cell_type": "markdown",
   "id": "21e954f2",
   "metadata": {},
   "source": [
    "<h2>Senate data</h2>"
   ]
  },
  {
   "cell_type": "code",
   "execution_count": 26,
   "id": "edbaeaea",
   "metadata": {},
   "outputs": [],
   "source": [
    "cols = senate_tab[0].values.tolist()[0]"
   ]
  },
  {
   "cell_type": "code",
   "execution_count": 27,
   "id": "23d00981",
   "metadata": {},
   "outputs": [
    {
     "name": "stdout",
     "output_type": "stream",
     "text": [
      "['S/N', 'STATE', 'CONSTITUENCY', 'PARTY', 'POSITION', 'CANDIDATE_NAME', 'PWD', 'AGE', 'GENDER', 'QUALIFICATIONS', 'REMARKS']\n"
     ]
    }
   ],
   "source": [
    "print(cols)"
   ]
  },
  {
   "cell_type": "code",
   "execution_count": 28,
   "id": "76961949",
   "metadata": {},
   "outputs": [],
   "source": [
    "sen_clean = list()\n",
    "\n",
    "for df in senate_tab:\n",
    "    if df.shape[1] != 11:\n",
    "        df[10] = np.nan \n",
    "        sen_clean.append(df)       \n",
    "        continue        \n",
    "    sen_clean.append(df)\n",
    "\n",
    "sen_df = pd.concat(sen_clean)"
   ]
  },
  {
   "cell_type": "code",
   "execution_count": 29,
   "id": "d86bc0f1",
   "metadata": {},
   "outputs": [
    {
     "data": {
      "text/html": [
       "<div>\n",
       "<style scoped>\n",
       "    .dataframe tbody tr th:only-of-type {\n",
       "        vertical-align: middle;\n",
       "    }\n",
       "\n",
       "    .dataframe tbody tr th {\n",
       "        vertical-align: top;\n",
       "    }\n",
       "\n",
       "    .dataframe thead th {\n",
       "        text-align: right;\n",
       "    }\n",
       "</style>\n",
       "<table border=\"1\" class=\"dataframe\">\n",
       "  <thead>\n",
       "    <tr style=\"text-align: right;\">\n",
       "      <th></th>\n",
       "      <th>0</th>\n",
       "      <th>1</th>\n",
       "      <th>2</th>\n",
       "      <th>3</th>\n",
       "      <th>4</th>\n",
       "      <th>5</th>\n",
       "      <th>6</th>\n",
       "      <th>7</th>\n",
       "      <th>8</th>\n",
       "      <th>9</th>\n",
       "      <th>10</th>\n",
       "    </tr>\n",
       "  </thead>\n",
       "  <tbody>\n",
       "    <tr>\n",
       "      <th>0</th>\n",
       "      <td>S/N</td>\n",
       "      <td>STATE</td>\n",
       "      <td>CONSTITUENCY</td>\n",
       "      <td>PARTY</td>\n",
       "      <td>POSITION</td>\n",
       "      <td>CANDIDATE_NAME</td>\n",
       "      <td>PWD</td>\n",
       "      <td>AGE</td>\n",
       "      <td>GENDER</td>\n",
       "      <td>QUALIFICATIONS</td>\n",
       "      <td>REMARKS</td>\n",
       "    </tr>\n",
       "    <tr>\n",
       "      <th>1</th>\n",
       "      <td>1</td>\n",
       "      <td>ABIA</td>\n",
       "      <td>ABIA CENTRAL</td>\n",
       "      <td>AA</td>\n",
       "      <td>Senate</td>\n",
       "      <td>UBANI IHEANYICHUKWU\\rDENNIS</td>\n",
       "      <td>None</td>\n",
       "      <td>51</td>\n",
       "      <td>M</td>\n",
       "      <td>WAEC HND</td>\n",
       "      <td>NaN</td>\n",
       "    </tr>\n",
       "    <tr>\n",
       "      <th>2</th>\n",
       "      <td>2</td>\n",
       "      <td>ABIA</td>\n",
       "      <td>ABIA SOUTH</td>\n",
       "      <td>AAC</td>\n",
       "      <td>Senate</td>\n",
       "      <td>NWANKWO GODSWILL\\rCHINYERE</td>\n",
       "      <td>None</td>\n",
       "      <td>48</td>\n",
       "      <td>M</td>\n",
       "      <td>FSLC WAEC DEGREE</td>\n",
       "      <td>NaN</td>\n",
       "    </tr>\n",
       "    <tr>\n",
       "      <th>3</th>\n",
       "      <td>3</td>\n",
       "      <td>ABIA</td>\n",
       "      <td>ABIA NORTH</td>\n",
       "      <td>ADC</td>\n",
       "      <td>Senate</td>\n",
       "      <td>EMETU MARTINS</td>\n",
       "      <td>None</td>\n",
       "      <td>72</td>\n",
       "      <td>M</td>\n",
       "      <td>FLSC SSCE DEGREE</td>\n",
       "      <td>NaN</td>\n",
       "    </tr>\n",
       "    <tr>\n",
       "      <th>4</th>\n",
       "      <td>4</td>\n",
       "      <td>ABIA</td>\n",
       "      <td>ABIA CENTRAL</td>\n",
       "      <td>ADC</td>\n",
       "      <td>Senate</td>\n",
       "      <td>JOHN ABRAHAM, GODSON</td>\n",
       "      <td>None</td>\n",
       "      <td>51</td>\n",
       "      <td>M</td>\n",
       "      <td>SCHOOL LEAVING\\rCERTIFICATE WASC</td>\n",
       "      <td>NaN</td>\n",
       "    </tr>\n",
       "  </tbody>\n",
       "</table>\n",
       "</div>"
      ],
      "text/plain": [
       "    0      1             2      3         4                            5   \\\n",
       "0  S/N  STATE  CONSTITUENCY  PARTY  POSITION               CANDIDATE_NAME   \n",
       "1    1   ABIA  ABIA CENTRAL     AA    Senate  UBANI IHEANYICHUKWU\\rDENNIS   \n",
       "2    2   ABIA    ABIA SOUTH    AAC    Senate   NWANKWO GODSWILL\\rCHINYERE   \n",
       "3    3   ABIA    ABIA NORTH    ADC    Senate                EMETU MARTINS   \n",
       "4    4   ABIA  ABIA CENTRAL    ADC    Senate         JOHN ABRAHAM, GODSON   \n",
       "\n",
       "     6    7       8                                 9        10  \n",
       "0   PWD  AGE  GENDER                    QUALIFICATIONS  REMARKS  \n",
       "1  None   51       M                          WAEC HND      NaN  \n",
       "2  None   48       M                  FSLC WAEC DEGREE      NaN  \n",
       "3  None   72       M                  FLSC SSCE DEGREE      NaN  \n",
       "4  None   51       M  SCHOOL LEAVING\\rCERTIFICATE WASC      NaN  "
      ]
     },
     "execution_count": 29,
     "metadata": {},
     "output_type": "execute_result"
    }
   ],
   "source": [
    "sen_df.head()"
   ]
  },
  {
   "cell_type": "code",
   "execution_count": 31,
   "id": "151483de",
   "metadata": {},
   "outputs": [
    {
     "data": {
      "text/html": [
       "<div>\n",
       "<style scoped>\n",
       "    .dataframe tbody tr th:only-of-type {\n",
       "        vertical-align: middle;\n",
       "    }\n",
       "\n",
       "    .dataframe tbody tr th {\n",
       "        vertical-align: top;\n",
       "    }\n",
       "\n",
       "    .dataframe thead th {\n",
       "        text-align: right;\n",
       "    }\n",
       "</style>\n",
       "<table border=\"1\" class=\"dataframe\">\n",
       "  <thead>\n",
       "    <tr style=\"text-align: right;\">\n",
       "      <th></th>\n",
       "      <th>S/N</th>\n",
       "      <th>STATE</th>\n",
       "      <th>CONSTITUENCY</th>\n",
       "      <th>PARTY</th>\n",
       "      <th>POSITION</th>\n",
       "      <th>CANDIDATE_NAME</th>\n",
       "      <th>PWD</th>\n",
       "      <th>AGE</th>\n",
       "      <th>GENDER</th>\n",
       "      <th>QUALIFICATIONS</th>\n",
       "      <th>REMARKS</th>\n",
       "    </tr>\n",
       "  </thead>\n",
       "  <tbody>\n",
       "    <tr>\n",
       "      <th>0</th>\n",
       "      <td>S/N</td>\n",
       "      <td>STATE</td>\n",
       "      <td>CONSTITUENCY</td>\n",
       "      <td>PARTY</td>\n",
       "      <td>POSITION</td>\n",
       "      <td>CANDIDATE_NAME</td>\n",
       "      <td>PWD</td>\n",
       "      <td>AGE</td>\n",
       "      <td>GENDER</td>\n",
       "      <td>QUALIFICATIONS</td>\n",
       "      <td>REMARKS</td>\n",
       "    </tr>\n",
       "    <tr>\n",
       "      <th>1</th>\n",
       "      <td>1</td>\n",
       "      <td>ABIA</td>\n",
       "      <td>ABIA CENTRAL</td>\n",
       "      <td>AA</td>\n",
       "      <td>Senate</td>\n",
       "      <td>UBANI IHEANYICHUKWU\\rDENNIS</td>\n",
       "      <td>None</td>\n",
       "      <td>51</td>\n",
       "      <td>M</td>\n",
       "      <td>WAEC HND</td>\n",
       "      <td>NaN</td>\n",
       "    </tr>\n",
       "    <tr>\n",
       "      <th>2</th>\n",
       "      <td>2</td>\n",
       "      <td>ABIA</td>\n",
       "      <td>ABIA SOUTH</td>\n",
       "      <td>AAC</td>\n",
       "      <td>Senate</td>\n",
       "      <td>NWANKWO GODSWILL\\rCHINYERE</td>\n",
       "      <td>None</td>\n",
       "      <td>48</td>\n",
       "      <td>M</td>\n",
       "      <td>FSLC WAEC DEGREE</td>\n",
       "      <td>NaN</td>\n",
       "    </tr>\n",
       "    <tr>\n",
       "      <th>3</th>\n",
       "      <td>3</td>\n",
       "      <td>ABIA</td>\n",
       "      <td>ABIA NORTH</td>\n",
       "      <td>ADC</td>\n",
       "      <td>Senate</td>\n",
       "      <td>EMETU MARTINS</td>\n",
       "      <td>None</td>\n",
       "      <td>72</td>\n",
       "      <td>M</td>\n",
       "      <td>FLSC SSCE DEGREE</td>\n",
       "      <td>NaN</td>\n",
       "    </tr>\n",
       "    <tr>\n",
       "      <th>4</th>\n",
       "      <td>4</td>\n",
       "      <td>ABIA</td>\n",
       "      <td>ABIA CENTRAL</td>\n",
       "      <td>ADC</td>\n",
       "      <td>Senate</td>\n",
       "      <td>JOHN ABRAHAM, GODSON</td>\n",
       "      <td>None</td>\n",
       "      <td>51</td>\n",
       "      <td>M</td>\n",
       "      <td>SCHOOL LEAVING\\rCERTIFICATE WASC</td>\n",
       "      <td>NaN</td>\n",
       "    </tr>\n",
       "  </tbody>\n",
       "</table>\n",
       "</div>"
      ],
      "text/plain": [
       "   S/N  STATE  CONSTITUENCY  PARTY  POSITION               CANDIDATE_NAME  \\\n",
       "0  S/N  STATE  CONSTITUENCY  PARTY  POSITION               CANDIDATE_NAME   \n",
       "1    1   ABIA  ABIA CENTRAL     AA    Senate  UBANI IHEANYICHUKWU\\rDENNIS   \n",
       "2    2   ABIA    ABIA SOUTH    AAC    Senate   NWANKWO GODSWILL\\rCHINYERE   \n",
       "3    3   ABIA    ABIA NORTH    ADC    Senate                EMETU MARTINS   \n",
       "4    4   ABIA  ABIA CENTRAL    ADC    Senate         JOHN ABRAHAM, GODSON   \n",
       "\n",
       "    PWD  AGE  GENDER                    QUALIFICATIONS  REMARKS  \n",
       "0   PWD  AGE  GENDER                    QUALIFICATIONS  REMARKS  \n",
       "1  None   51       M                          WAEC HND      NaN  \n",
       "2  None   48       M                  FSLC WAEC DEGREE      NaN  \n",
       "3  None   72       M                  FLSC SSCE DEGREE      NaN  \n",
       "4  None   51       M  SCHOOL LEAVING\\rCERTIFICATE WASC      NaN  "
      ]
     },
     "execution_count": 31,
     "metadata": {},
     "output_type": "execute_result"
    }
   ],
   "source": [
    "sen_df.columns=cols\n",
    "sen_df.head()"
   ]
  },
  {
   "cell_type": "code",
   "execution_count": 32,
   "id": "a1b5d76b",
   "metadata": {},
   "outputs": [
    {
     "data": {
      "text/plain": [
       "(1110, 11)"
      ]
     },
     "execution_count": 32,
     "metadata": {},
     "output_type": "execute_result"
    }
   ],
   "source": [
    "sen_df.shape"
   ]
  },
  {
   "cell_type": "code",
   "execution_count": 42,
   "id": "58b3ac31",
   "metadata": {},
   "outputs": [
    {
     "name": "stdout",
     "output_type": "stream",
     "text": [
      "<class 'pandas.core.frame.DataFrame'>\n",
      "Int64Index: 1109 entries, 1 to 8\n",
      "Data columns (total 11 columns):\n",
      " #   Column          Non-Null Count  Dtype \n",
      "---  ------          --------------  ----- \n",
      " 0   s/n             1101 non-null   object\n",
      " 1   state           1101 non-null   object\n",
      " 2   constituency    1105 non-null   object\n",
      " 3   party           1101 non-null   object\n",
      " 4   position        1101 non-null   object\n",
      " 5   candidate_name  1101 non-null   object\n",
      " 6   pwd             1098 non-null   object\n",
      " 7   age             1098 non-null   object\n",
      " 8   gender          1098 non-null   object\n",
      " 9   qualifications  1046 non-null   object\n",
      " 10  remarks         8 non-null      object\n",
      "dtypes: object(11)\n",
      "memory usage: 104.0+ KB\n"
     ]
    }
   ],
   "source": [
    "sen_df.info()"
   ]
  },
  {
   "cell_type": "code",
   "execution_count": 35,
   "id": "98e9da1d",
   "metadata": {},
   "outputs": [],
   "source": [
    "sen_df.columns = sen_df.columns.str.lower()"
   ]
  },
  {
   "cell_type": "code",
   "execution_count": 36,
   "id": "18d3f36c",
   "metadata": {},
   "outputs": [
    {
     "data": {
      "text/plain": [
       "IMO EAST                 15\n",
       "KANO CENTRAL             15\n",
       "AKWA IBOM\\rNORTH EAST    15\n",
       "IMO WEST                 14\n",
       "IMO NORTH                14\n",
       "                         ..\n",
       "YOBE NORTH                4\n",
       "FEDERAL                   2\n",
       "CAPITAL                   2\n",
       "TERRITORY                 2\n",
       "CONSTITUENCY              1\n",
       "Name: constituency, Length: 113, dtype: int64"
      ]
     },
     "execution_count": 36,
     "metadata": {},
     "output_type": "execute_result"
    }
   ],
   "source": [
    "sen_df['constituency'].value_counts()"
   ]
  },
  {
   "cell_type": "code",
   "execution_count": 37,
   "id": "6c510feb",
   "metadata": {},
   "outputs": [
    {
     "data": {
      "text/html": [
       "<div>\n",
       "<style scoped>\n",
       "    .dataframe tbody tr th:only-of-type {\n",
       "        vertical-align: middle;\n",
       "    }\n",
       "\n",
       "    .dataframe tbody tr th {\n",
       "        vertical-align: top;\n",
       "    }\n",
       "\n",
       "    .dataframe thead th {\n",
       "        text-align: right;\n",
       "    }\n",
       "</style>\n",
       "<table border=\"1\" class=\"dataframe\">\n",
       "  <thead>\n",
       "    <tr style=\"text-align: right;\">\n",
       "      <th></th>\n",
       "      <th>s/n</th>\n",
       "      <th>state</th>\n",
       "      <th>constituency</th>\n",
       "      <th>party</th>\n",
       "      <th>position</th>\n",
       "      <th>candidate_name</th>\n",
       "      <th>pwd</th>\n",
       "      <th>age</th>\n",
       "      <th>gender</th>\n",
       "      <th>qualifications</th>\n",
       "      <th>remarks</th>\n",
       "    </tr>\n",
       "  </thead>\n",
       "  <tbody>\n",
       "    <tr>\n",
       "      <th>0</th>\n",
       "      <td>S/N</td>\n",
       "      <td>STATE</td>\n",
       "      <td>CONSTITUENCY</td>\n",
       "      <td>PARTY</td>\n",
       "      <td>POSITION</td>\n",
       "      <td>CANDIDATE_NAME</td>\n",
       "      <td>PWD</td>\n",
       "      <td>AGE</td>\n",
       "      <td>GENDER</td>\n",
       "      <td>QUALIFICATIONS</td>\n",
       "      <td>REMARKS</td>\n",
       "    </tr>\n",
       "  </tbody>\n",
       "</table>\n",
       "</div>"
      ],
      "text/plain": [
       "   s/n  state  constituency  party  position  candidate_name  pwd  age  \\\n",
       "0  S/N  STATE  CONSTITUENCY  PARTY  POSITION  CANDIDATE_NAME  PWD  AGE   \n",
       "\n",
       "   gender  qualifications  remarks  \n",
       "0  GENDER  QUALIFICATIONS  REMARKS  "
      ]
     },
     "execution_count": 37,
     "metadata": {},
     "output_type": "execute_result"
    }
   ],
   "source": [
    " sen_df[sen_df['constituency']=='CONSTITUENCY']"
   ]
  },
  {
   "cell_type": "code",
   "execution_count": 38,
   "id": "54c5ba7a",
   "metadata": {},
   "outputs": [],
   "source": [
    "sen_df = sen_df.iloc[1: , :]"
   ]
  },
  {
   "cell_type": "code",
   "execution_count": 39,
   "id": "335bc272",
   "metadata": {
    "scrolled": true
   },
   "outputs": [
    {
     "data": {
      "text/html": [
       "<div>\n",
       "<style scoped>\n",
       "    .dataframe tbody tr th:only-of-type {\n",
       "        vertical-align: middle;\n",
       "    }\n",
       "\n",
       "    .dataframe tbody tr th {\n",
       "        vertical-align: top;\n",
       "    }\n",
       "\n",
       "    .dataframe thead th {\n",
       "        text-align: right;\n",
       "    }\n",
       "</style>\n",
       "<table border=\"1\" class=\"dataframe\">\n",
       "  <thead>\n",
       "    <tr style=\"text-align: right;\">\n",
       "      <th></th>\n",
       "      <th>s/n</th>\n",
       "      <th>state</th>\n",
       "      <th>constituency</th>\n",
       "      <th>party</th>\n",
       "      <th>position</th>\n",
       "      <th>candidate_name</th>\n",
       "      <th>pwd</th>\n",
       "      <th>age</th>\n",
       "      <th>gender</th>\n",
       "      <th>qualifications</th>\n",
       "      <th>remarks</th>\n",
       "    </tr>\n",
       "  </thead>\n",
       "  <tbody>\n",
       "    <tr>\n",
       "      <th>1</th>\n",
       "      <td>1</td>\n",
       "      <td>ABIA</td>\n",
       "      <td>ABIA CENTRAL</td>\n",
       "      <td>AA</td>\n",
       "      <td>Senate</td>\n",
       "      <td>UBANI IHEANYICHUKWU\\rDENNIS</td>\n",
       "      <td>None</td>\n",
       "      <td>51</td>\n",
       "      <td>M</td>\n",
       "      <td>WAEC HND</td>\n",
       "      <td>NaN</td>\n",
       "    </tr>\n",
       "    <tr>\n",
       "      <th>2</th>\n",
       "      <td>2</td>\n",
       "      <td>ABIA</td>\n",
       "      <td>ABIA SOUTH</td>\n",
       "      <td>AAC</td>\n",
       "      <td>Senate</td>\n",
       "      <td>NWANKWO GODSWILL\\rCHINYERE</td>\n",
       "      <td>None</td>\n",
       "      <td>48</td>\n",
       "      <td>M</td>\n",
       "      <td>FSLC WAEC DEGREE</td>\n",
       "      <td>NaN</td>\n",
       "    </tr>\n",
       "    <tr>\n",
       "      <th>3</th>\n",
       "      <td>3</td>\n",
       "      <td>ABIA</td>\n",
       "      <td>ABIA NORTH</td>\n",
       "      <td>ADC</td>\n",
       "      <td>Senate</td>\n",
       "      <td>EMETU MARTINS</td>\n",
       "      <td>None</td>\n",
       "      <td>72</td>\n",
       "      <td>M</td>\n",
       "      <td>FLSC SSCE DEGREE</td>\n",
       "      <td>NaN</td>\n",
       "    </tr>\n",
       "    <tr>\n",
       "      <th>4</th>\n",
       "      <td>4</td>\n",
       "      <td>ABIA</td>\n",
       "      <td>ABIA CENTRAL</td>\n",
       "      <td>ADC</td>\n",
       "      <td>Senate</td>\n",
       "      <td>JOHN ABRAHAM, GODSON</td>\n",
       "      <td>None</td>\n",
       "      <td>51</td>\n",
       "      <td>M</td>\n",
       "      <td>SCHOOL LEAVING\\rCERTIFICATE WASC</td>\n",
       "      <td>NaN</td>\n",
       "    </tr>\n",
       "    <tr>\n",
       "      <th>5</th>\n",
       "      <td>5</td>\n",
       "      <td>ABIA</td>\n",
       "      <td>ABIA SOUTH</td>\n",
       "      <td>ADC</td>\n",
       "      <td>Senate</td>\n",
       "      <td>EDEDE OKEY</td>\n",
       "      <td>None</td>\n",
       "      <td>58</td>\n",
       "      <td>M</td>\n",
       "      <td>FLSC SSCE DEGREE</td>\n",
       "      <td>NaN</td>\n",
       "    </tr>\n",
       "  </tbody>\n",
       "</table>\n",
       "</div>"
      ],
      "text/plain": [
       "  s/n state  constituency party position               candidate_name   pwd  \\\n",
       "1   1  ABIA  ABIA CENTRAL    AA   Senate  UBANI IHEANYICHUKWU\\rDENNIS  None   \n",
       "2   2  ABIA    ABIA SOUTH   AAC   Senate   NWANKWO GODSWILL\\rCHINYERE  None   \n",
       "3   3  ABIA    ABIA NORTH   ADC   Senate                EMETU MARTINS  None   \n",
       "4   4  ABIA  ABIA CENTRAL   ADC   Senate         JOHN ABRAHAM, GODSON  None   \n",
       "5   5  ABIA    ABIA SOUTH   ADC   Senate                   EDEDE OKEY  None   \n",
       "\n",
       "  age gender                    qualifications remarks  \n",
       "1  51      M                          WAEC HND     NaN  \n",
       "2  48      M                  FSLC WAEC DEGREE     NaN  \n",
       "3  72      M                  FLSC SSCE DEGREE     NaN  \n",
       "4  51      M  SCHOOL LEAVING\\rCERTIFICATE WASC     NaN  \n",
       "5  58      M                  FLSC SSCE DEGREE     NaN  "
      ]
     },
     "execution_count": 39,
     "metadata": {},
     "output_type": "execute_result"
    }
   ],
   "source": [
    "sen_df.head()"
   ]
  },
  {
   "cell_type": "code",
   "execution_count": 40,
   "id": "24c204e5",
   "metadata": {},
   "outputs": [
    {
     "data": {
      "text/plain": [
       "IMO EAST                 15\n",
       "AKWA IBOM\\rNORTH EAST    15\n",
       "KANO CENTRAL             15\n",
       "DELTA CENTRAL            14\n",
       "IMO NORTH                14\n",
       "                         ..\n",
       "YOBE SOUTH                6\n",
       "YOBE NORTH                4\n",
       "TERRITORY                 2\n",
       "CAPITAL                   2\n",
       "FEDERAL                   2\n",
       "Name: constituency, Length: 112, dtype: int64"
      ]
     },
     "execution_count": 40,
     "metadata": {},
     "output_type": "execute_result"
    }
   ],
   "source": [
    "sen_df['constituency'].value_counts()"
   ]
  },
  {
   "cell_type": "code",
   "execution_count": 48,
   "id": "9a01b416",
   "metadata": {},
   "outputs": [
    {
     "name": "stderr",
     "output_type": "stream",
     "text": [
      "C:\\Users\\user\\AppData\\Local\\Temp\\ipykernel_11256\\24605750.py:1: SettingWithCopyWarning: \n",
      "A value is trying to be set on a copy of a slice from a DataFrame.\n",
      "Try using .loc[row_indexer,col_indexer] = value instead\n",
      "\n",
      "See the caveats in the documentation: https://pandas.pydata.org/pandas-docs/stable/user_guide/indexing.html#returning-a-view-versus-a-copy\n",
      "  sen_df['age'] = sen_df['age'].fillna(0).astype('int64')\n"
     ]
    }
   ],
   "source": [
    "sen_df['age'] = sen_df['age'].fillna(0).astype('int64')"
   ]
  },
  {
   "cell_type": "code",
   "execution_count": 49,
   "id": "cbdf7c4e",
   "metadata": {},
   "outputs": [
    {
     "data": {
      "text/plain": [
       "s/n               object\n",
       "state             object\n",
       "constituency      object\n",
       "party             object\n",
       "position          object\n",
       "candidate_name    object\n",
       "pwd               object\n",
       "age                int64\n",
       "gender            object\n",
       "qualifications    object\n",
       "remarks           object\n",
       "dtype: object"
      ]
     },
     "execution_count": 49,
     "metadata": {},
     "output_type": "execute_result"
    }
   ],
   "source": [
    "sen_df.dtypes"
   ]
  },
  {
   "cell_type": "code",
   "execution_count": 50,
   "id": "8ca52327",
   "metadata": {},
   "outputs": [
    {
     "name": "stderr",
     "output_type": "stream",
     "text": [
      "C:\\Users\\user\\AppData\\Local\\Temp\\ipykernel_11256\\3582084850.py:3: SettingWithCopyWarning: \n",
      "A value is trying to be set on a copy of a slice from a DataFrame\n",
      "\n",
      "See the caveats in the documentation: https://pandas.pydata.org/pandas-docs/stable/user_guide/indexing.html#returning-a-view-versus-a-copy\n",
      "  sen_df.replace(to_replace=[r\"\\\\t|\\\\n|\\\\r\", \"\\t|\\n|\\r\"], value=[\" \",\" \"], regex=True, inplace=True)\n"
     ]
    }
   ],
   "source": [
    "# removing newlines, carriage returns, tabs\n",
    "#answer gotten from https://gist.github.com/smram/d6ded3c9028272360eb65bcab564a18a\n",
    "sen_df.replace(to_replace=[r\"\\\\t|\\\\n|\\\\r\", \"\\t|\\n|\\r\"], value=[\" \",\" \"], regex=True, inplace=True)"
   ]
  },
  {
   "cell_type": "code",
   "execution_count": 56,
   "id": "cbecac30",
   "metadata": {},
   "outputs": [],
   "source": [
    "sen_df.rename(columns = {'candidate_name':'name of candidate'}, inplace = True)"
   ]
  },
  {
   "cell_type": "code",
   "execution_count": 63,
   "id": "584fb628",
   "metadata": {},
   "outputs": [],
   "source": [
    "sen_df['source'] = 'https://inecnigeria.org/wp-content/uploads/2022/09/Final-List-of-Candidates-for-National-Elections-1.pdf'"
   ]
  },
  {
   "cell_type": "code",
   "execution_count": 64,
   "id": "f6d7631d",
   "metadata": {},
   "outputs": [
    {
     "data": {
      "text/html": [
       "<div>\n",
       "<style scoped>\n",
       "    .dataframe tbody tr th:only-of-type {\n",
       "        vertical-align: middle;\n",
       "    }\n",
       "\n",
       "    .dataframe tbody tr th {\n",
       "        vertical-align: top;\n",
       "    }\n",
       "\n",
       "    .dataframe thead th {\n",
       "        text-align: right;\n",
       "    }\n",
       "</style>\n",
       "<table border=\"1\" class=\"dataframe\">\n",
       "  <thead>\n",
       "    <tr style=\"text-align: right;\">\n",
       "      <th></th>\n",
       "      <th>s/n</th>\n",
       "      <th>state</th>\n",
       "      <th>constituency</th>\n",
       "      <th>party</th>\n",
       "      <th>position</th>\n",
       "      <th>name of candidate</th>\n",
       "      <th>pwd</th>\n",
       "      <th>age</th>\n",
       "      <th>gender</th>\n",
       "      <th>qualifications</th>\n",
       "      <th>remarks</th>\n",
       "      <th>source</th>\n",
       "    </tr>\n",
       "  </thead>\n",
       "  <tbody>\n",
       "    <tr>\n",
       "      <th>1</th>\n",
       "      <td>1</td>\n",
       "      <td>ABIA</td>\n",
       "      <td>ABIA CENTRAL</td>\n",
       "      <td>AA</td>\n",
       "      <td>Senate</td>\n",
       "      <td>UBANI IHEANYICHUKWU DENNIS</td>\n",
       "      <td>None</td>\n",
       "      <td>51</td>\n",
       "      <td>M</td>\n",
       "      <td>WAEC HND</td>\n",
       "      <td>NaN</td>\n",
       "      <td>https://inecnigeria.org/wp-content/uploads/202...</td>\n",
       "    </tr>\n",
       "    <tr>\n",
       "      <th>2</th>\n",
       "      <td>2</td>\n",
       "      <td>ABIA</td>\n",
       "      <td>ABIA SOUTH</td>\n",
       "      <td>AAC</td>\n",
       "      <td>Senate</td>\n",
       "      <td>NWANKWO GODSWILL CHINYERE</td>\n",
       "      <td>None</td>\n",
       "      <td>48</td>\n",
       "      <td>M</td>\n",
       "      <td>FSLC WAEC DEGREE</td>\n",
       "      <td>NaN</td>\n",
       "      <td>https://inecnigeria.org/wp-content/uploads/202...</td>\n",
       "    </tr>\n",
       "    <tr>\n",
       "      <th>3</th>\n",
       "      <td>3</td>\n",
       "      <td>ABIA</td>\n",
       "      <td>ABIA NORTH</td>\n",
       "      <td>ADC</td>\n",
       "      <td>Senate</td>\n",
       "      <td>EMETU MARTINS</td>\n",
       "      <td>None</td>\n",
       "      <td>72</td>\n",
       "      <td>M</td>\n",
       "      <td>FLSC SSCE DEGREE</td>\n",
       "      <td>NaN</td>\n",
       "      <td>https://inecnigeria.org/wp-content/uploads/202...</td>\n",
       "    </tr>\n",
       "    <tr>\n",
       "      <th>4</th>\n",
       "      <td>4</td>\n",
       "      <td>ABIA</td>\n",
       "      <td>ABIA CENTRAL</td>\n",
       "      <td>ADC</td>\n",
       "      <td>Senate</td>\n",
       "      <td>JOHN ABRAHAM, GODSON</td>\n",
       "      <td>None</td>\n",
       "      <td>51</td>\n",
       "      <td>M</td>\n",
       "      <td>SCHOOL LEAVING CERTIFICATE WASC</td>\n",
       "      <td>NaN</td>\n",
       "      <td>https://inecnigeria.org/wp-content/uploads/202...</td>\n",
       "    </tr>\n",
       "    <tr>\n",
       "      <th>5</th>\n",
       "      <td>5</td>\n",
       "      <td>ABIA</td>\n",
       "      <td>ABIA SOUTH</td>\n",
       "      <td>ADC</td>\n",
       "      <td>Senate</td>\n",
       "      <td>EDEDE OKEY</td>\n",
       "      <td>None</td>\n",
       "      <td>58</td>\n",
       "      <td>M</td>\n",
       "      <td>FLSC SSCE DEGREE</td>\n",
       "      <td>NaN</td>\n",
       "      <td>https://inecnigeria.org/wp-content/uploads/202...</td>\n",
       "    </tr>\n",
       "  </tbody>\n",
       "</table>\n",
       "</div>"
      ],
      "text/plain": [
       "  s/n state  constituency party position           name of candidate   pwd  \\\n",
       "1   1  ABIA  ABIA CENTRAL    AA   Senate  UBANI IHEANYICHUKWU DENNIS  None   \n",
       "2   2  ABIA    ABIA SOUTH   AAC   Senate   NWANKWO GODSWILL CHINYERE  None   \n",
       "3   3  ABIA    ABIA NORTH   ADC   Senate               EMETU MARTINS  None   \n",
       "4   4  ABIA  ABIA CENTRAL   ADC   Senate        JOHN ABRAHAM, GODSON  None   \n",
       "5   5  ABIA    ABIA SOUTH   ADC   Senate                  EDEDE OKEY  None   \n",
       "\n",
       "   age gender                   qualifications remarks  \\\n",
       "1   51      M                         WAEC HND     NaN   \n",
       "2   48      M                 FSLC WAEC DEGREE     NaN   \n",
       "3   72      M                 FLSC SSCE DEGREE     NaN   \n",
       "4   51      M  SCHOOL LEAVING CERTIFICATE WASC     NaN   \n",
       "5   58      M                 FLSC SSCE DEGREE     NaN   \n",
       "\n",
       "                                              source  \n",
       "1  https://inecnigeria.org/wp-content/uploads/202...  \n",
       "2  https://inecnigeria.org/wp-content/uploads/202...  \n",
       "3  https://inecnigeria.org/wp-content/uploads/202...  \n",
       "4  https://inecnigeria.org/wp-content/uploads/202...  \n",
       "5  https://inecnigeria.org/wp-content/uploads/202...  "
      ]
     },
     "execution_count": 64,
     "metadata": {},
     "output_type": "execute_result"
    }
   ],
   "source": [
    "sen_df.head()"
   ]
  },
  {
   "cell_type": "code",
   "execution_count": 52,
   "id": "bd8846e4",
   "metadata": {},
   "outputs": [
    {
     "name": "stdout",
     "output_type": "stream",
     "text": [
      "0\n"
     ]
    }
   ],
   "source": [
    "print(sen_df.duplicated().sum())"
   ]
  },
  {
   "cell_type": "code",
   "execution_count": 57,
   "id": "20294fc2",
   "metadata": {},
   "outputs": [
    {
     "name": "stdout",
     "output_type": "stream",
     "text": [
      "s/n                  1100\n",
      "state                  37\n",
      "constituency          112\n",
      "party                  18\n",
      "position                1\n",
      "name of candidate    1099\n",
      "pwd                     5\n",
      "age                    46\n",
      "gender                  2\n",
      "qualifications        703\n",
      "remarks                 2\n",
      "dtype: int64\n"
     ]
    }
   ],
   "source": [
    "uniqueValues = sen_df.nunique()\n",
    "print(uniqueValues)"
   ]
  },
  {
   "cell_type": "code",
   "execution_count": 60,
   "id": "1a4fd5fd",
   "metadata": {},
   "outputs": [
    {
     "data": {
      "text/plain": [
       "1       ABIA CENTRAL\n",
       "2         ABIA SOUTH\n",
       "3         ABIA NORTH\n",
       "4       ABIA CENTRAL\n",
       "5         ABIA SOUTH\n",
       "          ...       \n",
       "4      ZAMFARA NORTH\n",
       "5      ZAMFARA NORTH\n",
       "6       ZAMFARA WEST\n",
       "7    ZAMFARA CENTRAL\n",
       "8       ZAMFARA WEST\n",
       "Name: constituency, Length: 1109, dtype: object"
      ]
     },
     "execution_count": 60,
     "metadata": {},
     "output_type": "execute_result"
    }
   ],
   "source": [
    "sen_df['name of candidate'].replace(r'\\s+',' ', regex=True)\n",
    "sen_df['qualifications'].replace(r'\\s+',' ', regex=True)\n",
    "sen_df['constituency'].replace(r'\\s+',' ', regex=True)"
   ]
  },
  {
   "cell_type": "markdown",
   "id": "7303864a",
   "metadata": {},
   "source": [
    "<h2>House of representative data</h2>"
   ]
  },
  {
   "cell_type": "code",
   "execution_count": 61,
   "id": "a00dcc2d",
   "metadata": {},
   "outputs": [],
   "source": [
    "col = house_tab[0].values.tolist()[0]"
   ]
  },
  {
   "cell_type": "code",
   "execution_count": 62,
   "id": "9cb43efe",
   "metadata": {},
   "outputs": [
    {
     "name": "stdout",
     "output_type": "stream",
     "text": [
      "['S/N', 'STATE', 'CONSTITUENCY', 'NAME OF CANDIDATE', 'PARTY', 'PWD', 'AGE', 'GENDER', 'QUALIFICATION', 'REMARKS']\n"
     ]
    }
   ],
   "source": [
    "print(col)"
   ]
  },
  {
   "cell_type": "code",
   "execution_count": 66,
   "id": "f220c268",
   "metadata": {},
   "outputs": [],
   "source": [
    "house_tab[0]= house_tab[0].iloc[1:]"
   ]
  },
  {
   "cell_type": "code",
   "execution_count": 73,
   "id": "59431553",
   "metadata": {},
   "outputs": [],
   "source": [
    "house_df = pd.concat(house_tab)"
   ]
  },
  {
   "cell_type": "code",
   "execution_count": 74,
   "id": "768d2d65",
   "metadata": {},
   "outputs": [],
   "source": [
    "house_df.columns=col"
   ]
  },
  {
   "cell_type": "code",
   "execution_count": 75,
   "id": "4511c301",
   "metadata": {},
   "outputs": [
    {
     "name": "stdout",
     "output_type": "stream",
     "text": [
      "<class 'pandas.core.frame.DataFrame'>\n",
      "Int64Index: 3160 entries, 1 to 11\n",
      "Data columns (total 10 columns):\n",
      " #   Column             Non-Null Count  Dtype \n",
      "---  ------             --------------  ----- \n",
      " 0   S/N                3153 non-null   object\n",
      " 1   STATE              310 non-null    object\n",
      " 2   CONSTITUENCY       3155 non-null   object\n",
      " 3   NAME OF CANDIDATE  3153 non-null   object\n",
      " 4   PARTY              3155 non-null   object\n",
      " 5   PWD                3146 non-null   object\n",
      " 6   AGE                3146 non-null   object\n",
      " 7   GENDER             3144 non-null   object\n",
      " 8   QUALIFICATION      3006 non-null   object\n",
      " 9   REMARKS            64 non-null     object\n",
      "dtypes: object(10)\n",
      "memory usage: 271.6+ KB\n"
     ]
    }
   ],
   "source": [
    "house_df.info()"
   ]
  },
  {
   "cell_type": "code",
   "execution_count": 76,
   "id": "fcac78a9",
   "metadata": {},
   "outputs": [
    {
     "data": {
      "text/plain": [
       "CONSTITUENCY                                    44\n",
       "Aboh Mbaise/Ngor\\rOkpala                        15\n",
       "Takum/Donga/Ussa                                15\n",
       "Owerri Municipal/\\rOwerri North/Owerri\\rWest    15\n",
       "Municipal/Bwari                                 15\n",
       "                                                ..\n",
       "Damboa/Gwoza/\\rChiboks                           1\n",
       "Ovia North East/`Ovia\\rSouth\\rWest               1\n",
       "ALKALERI/KIRFI                                   1\n",
       "Akoko North East/Akoko\\rNorth\\rWest              1\n",
       "Damaturu/Gujba/\\rGulani/Tarmuwa                  1\n",
       "Name: CONSTITUENCY, Length: 370, dtype: int64"
      ]
     },
     "execution_count": 76,
     "metadata": {},
     "output_type": "execute_result"
    }
   ],
   "source": [
    "house_df['CONSTITUENCY'].value_counts()"
   ]
  },
  {
   "cell_type": "code",
   "execution_count": 82,
   "id": "d22abcb3",
   "metadata": {},
   "outputs": [],
   "source": [
    "house_df = house_df[house_df['CONSTITUENCY'].str.contains(\"CONSTITUENCY\") == False]"
   ]
  },
  {
   "cell_type": "code",
   "execution_count": 83,
   "id": "4df09c74",
   "metadata": {},
   "outputs": [
    {
     "data": {
      "text/plain": [
       "Aboh Mbaise/Ngor\\rOkpala                        15\n",
       "Municipal/Bwari                                 15\n",
       "Takum/Donga/Ussa                                15\n",
       "Owerri Municipal/\\rOwerri North/Owerri\\rWest    15\n",
       "Etinan/Nsit Ibom/Nsit\\rubium                    14\n",
       "                                                ..\n",
       "Damboa/Gwoza/\\rChiboks                           1\n",
       "Ovia North East/`Ovia\\rSouth\\rWest               1\n",
       "ALKALERI/KIRFI                                   1\n",
       "Akoko North East/Akoko\\rNorth\\rWest              1\n",
       "Damaturu/Gujba/\\rGulani/Tarmuwa                  1\n",
       "Name: CONSTITUENCY, Length: 369, dtype: int64"
      ]
     },
     "execution_count": 83,
     "metadata": {},
     "output_type": "execute_result"
    }
   ],
   "source": [
    "house_df['CONSTITUENCY'].value_counts()"
   ]
  },
  {
   "cell_type": "code",
   "execution_count": 84,
   "id": "fc988db9",
   "metadata": {},
   "outputs": [],
   "source": [
    "house_df.columns = house_df.columns.str.lower()"
   ]
  },
  {
   "cell_type": "code",
   "execution_count": 85,
   "id": "0934a7b0",
   "metadata": {},
   "outputs": [
    {
     "data": {
      "text/html": [
       "<div>\n",
       "<style scoped>\n",
       "    .dataframe tbody tr th:only-of-type {\n",
       "        vertical-align: middle;\n",
       "    }\n",
       "\n",
       "    .dataframe tbody tr th {\n",
       "        vertical-align: top;\n",
       "    }\n",
       "\n",
       "    .dataframe thead th {\n",
       "        text-align: right;\n",
       "    }\n",
       "</style>\n",
       "<table border=\"1\" class=\"dataframe\">\n",
       "  <thead>\n",
       "    <tr style=\"text-align: right;\">\n",
       "      <th></th>\n",
       "      <th>s/n</th>\n",
       "      <th>state</th>\n",
       "      <th>constituency</th>\n",
       "      <th>name of candidate</th>\n",
       "      <th>party</th>\n",
       "      <th>pwd</th>\n",
       "      <th>age</th>\n",
       "      <th>gender</th>\n",
       "      <th>qualification</th>\n",
       "      <th>remarks</th>\n",
       "    </tr>\n",
       "  </thead>\n",
       "  <tbody>\n",
       "    <tr>\n",
       "      <th>7</th>\n",
       "      <td>64</td>\n",
       "      <td>NaN</td>\n",
       "      <td>Shinkafi/Zurmi</td>\n",
       "      <td>IBRAHIM KABIRU</td>\n",
       "      <td>APGA</td>\n",
       "      <td>None</td>\n",
       "      <td>36</td>\n",
       "      <td>M</td>\n",
       "      <td>FSLC SSCE ND</td>\n",
       "      <td>NaN</td>\n",
       "    </tr>\n",
       "    <tr>\n",
       "      <th>8</th>\n",
       "      <td>65</td>\n",
       "      <td>NaN</td>\n",
       "      <td>Shinkafi/Zurmi</td>\n",
       "      <td>BAWA MUSTAPHA</td>\n",
       "      <td>APP</td>\n",
       "      <td>None</td>\n",
       "      <td>34</td>\n",
       "      <td>M</td>\n",
       "      <td>FSLC SSCE</td>\n",
       "      <td>NaN</td>\n",
       "    </tr>\n",
       "    <tr>\n",
       "      <th>9</th>\n",
       "      <td>66</td>\n",
       "      <td>NaN</td>\n",
       "      <td>Shinkafi/Zurmi</td>\n",
       "      <td>GARBA  SULEIMAN</td>\n",
       "      <td>NNPP</td>\n",
       "      <td>None</td>\n",
       "      <td>43</td>\n",
       "      <td>M</td>\n",
       "      <td>PRIMARY SCHOOL\\rCERTIFICATE SSCE ND,\\rHND,\\rBA...</td>\n",
       "      <td>NaN</td>\n",
       "    </tr>\n",
       "    <tr>\n",
       "      <th>10</th>\n",
       "      <td>67</td>\n",
       "      <td>NaN</td>\n",
       "      <td>Shinkafi/Zurmi</td>\n",
       "      <td>HASSAN BELLO SHINKAFI</td>\n",
       "      <td>PDP</td>\n",
       "      <td>None</td>\n",
       "      <td>52</td>\n",
       "      <td>M</td>\n",
       "      <td>FSLC GRADE 2 SCHOOL\\rOF ACCOUNTANCY</td>\n",
       "      <td>NaN</td>\n",
       "    </tr>\n",
       "    <tr>\n",
       "      <th>11</th>\n",
       "      <td>68</td>\n",
       "      <td>NaN</td>\n",
       "      <td>Shinkafi/Zurmi</td>\n",
       "      <td>ISIYAKA SHAMSUDEEN</td>\n",
       "      <td>SDP</td>\n",
       "      <td>None</td>\n",
       "      <td>36</td>\n",
       "      <td>M</td>\n",
       "      <td>MAGAJI DANGO (SMP)\\rINSTITUTE FOR\\rCOMPREHENSI...</td>\n",
       "      <td>NaN</td>\n",
       "    </tr>\n",
       "  </tbody>\n",
       "</table>\n",
       "</div>"
      ],
      "text/plain": [
       "   s/n state    constituency      name of candidate party   pwd age gender  \\\n",
       "7   64   NaN  Shinkafi/Zurmi         IBRAHIM KABIRU  APGA  None  36      M   \n",
       "8   65   NaN  Shinkafi/Zurmi          BAWA MUSTAPHA   APP  None  34      M   \n",
       "9   66   NaN  Shinkafi/Zurmi        GARBA  SULEIMAN  NNPP  None  43      M   \n",
       "10  67   NaN  Shinkafi/Zurmi  HASSAN BELLO SHINKAFI   PDP  None  52      M   \n",
       "11  68   NaN  Shinkafi/Zurmi     ISIYAKA SHAMSUDEEN   SDP  None  36      M   \n",
       "\n",
       "                                        qualification remarks  \n",
       "7                                        FSLC SSCE ND     NaN  \n",
       "8                                           FSLC SSCE     NaN  \n",
       "9   PRIMARY SCHOOL\\rCERTIFICATE SSCE ND,\\rHND,\\rBA...     NaN  \n",
       "10                FSLC GRADE 2 SCHOOL\\rOF ACCOUNTANCY     NaN  \n",
       "11  MAGAJI DANGO (SMP)\\rINSTITUTE FOR\\rCOMPREHENSI...     NaN  "
      ]
     },
     "execution_count": 85,
     "metadata": {},
     "output_type": "execute_result"
    }
   ],
   "source": [
    "house_df.tail()"
   ]
  },
  {
   "cell_type": "code",
   "execution_count": 86,
   "id": "ff716e6d",
   "metadata": {},
   "outputs": [
    {
     "data": {
      "text/plain": [
       "s/n                  object\n",
       "state                object\n",
       "constituency         object\n",
       "name of candidate    object\n",
       "party                object\n",
       "pwd                  object\n",
       "age                  object\n",
       "gender               object\n",
       "qualification        object\n",
       "remarks              object\n",
       "dtype: object"
      ]
     },
     "execution_count": 86,
     "metadata": {},
     "output_type": "execute_result"
    }
   ],
   "source": [
    "house_df.dtypes"
   ]
  },
  {
   "cell_type": "code",
   "execution_count": 88,
   "id": "229e4162",
   "metadata": {},
   "outputs": [],
   "source": [
    "house_df.rename(columns = {'qualification':'qualifications'}, inplace = True)"
   ]
  },
  {
   "cell_type": "code",
   "execution_count": 87,
   "id": "cb3246dd",
   "metadata": {},
   "outputs": [],
   "source": [
    "house_df['age'] = house_df['age'].fillna(0).astype('int64')"
   ]
  },
  {
   "cell_type": "code",
   "execution_count": 89,
   "id": "2074646a",
   "metadata": {},
   "outputs": [
    {
     "data": {
      "text/html": [
       "<div>\n",
       "<style scoped>\n",
       "    .dataframe tbody tr th:only-of-type {\n",
       "        vertical-align: middle;\n",
       "    }\n",
       "\n",
       "    .dataframe tbody tr th {\n",
       "        vertical-align: top;\n",
       "    }\n",
       "\n",
       "    .dataframe thead th {\n",
       "        text-align: right;\n",
       "    }\n",
       "</style>\n",
       "<table border=\"1\" class=\"dataframe\">\n",
       "  <thead>\n",
       "    <tr style=\"text-align: right;\">\n",
       "      <th></th>\n",
       "      <th>age</th>\n",
       "    </tr>\n",
       "  </thead>\n",
       "  <tbody>\n",
       "    <tr>\n",
       "      <th>count</th>\n",
       "      <td>3111.000000</td>\n",
       "    </tr>\n",
       "    <tr>\n",
       "      <th>mean</th>\n",
       "      <td>44.521376</td>\n",
       "    </tr>\n",
       "    <tr>\n",
       "      <th>std</th>\n",
       "      <td>10.398589</td>\n",
       "    </tr>\n",
       "    <tr>\n",
       "      <th>min</th>\n",
       "      <td>0.000000</td>\n",
       "    </tr>\n",
       "    <tr>\n",
       "      <th>25%</th>\n",
       "      <td>36.000000</td>\n",
       "    </tr>\n",
       "    <tr>\n",
       "      <th>50%</th>\n",
       "      <td>43.000000</td>\n",
       "    </tr>\n",
       "    <tr>\n",
       "      <th>75%</th>\n",
       "      <td>52.000000</td>\n",
       "    </tr>\n",
       "    <tr>\n",
       "      <th>max</th>\n",
       "      <td>77.000000</td>\n",
       "    </tr>\n",
       "  </tbody>\n",
       "</table>\n",
       "</div>"
      ],
      "text/plain": [
       "               age\n",
       "count  3111.000000\n",
       "mean     44.521376\n",
       "std      10.398589\n",
       "min       0.000000\n",
       "25%      36.000000\n",
       "50%      43.000000\n",
       "75%      52.000000\n",
       "max      77.000000"
      ]
     },
     "execution_count": 89,
     "metadata": {},
     "output_type": "execute_result"
    }
   ],
   "source": [
    "house_df.describe()"
   ]
  },
  {
   "cell_type": "code",
   "execution_count": 90,
   "id": "d10117db",
   "metadata": {},
   "outputs": [],
   "source": [
    "# removing newlines, carriage returns, tabs\n",
    "#answer gotten from https://gist.github.com/smram/d6ded3c9028272360eb65bcab564a18a\n",
    "house_df.replace(to_replace=[r\"\\\\t|\\\\n|\\\\r\", \"\\t|\\n|\\r\"], value=[\" \",\" \"], regex=True, inplace=True)"
   ]
  },
  {
   "cell_type": "code",
   "execution_count": 91,
   "id": "b90ed726",
   "metadata": {},
   "outputs": [
    {
     "data": {
      "text/html": [
       "<div>\n",
       "<style scoped>\n",
       "    .dataframe tbody tr th:only-of-type {\n",
       "        vertical-align: middle;\n",
       "    }\n",
       "\n",
       "    .dataframe tbody tr th {\n",
       "        vertical-align: top;\n",
       "    }\n",
       "\n",
       "    .dataframe thead th {\n",
       "        text-align: right;\n",
       "    }\n",
       "</style>\n",
       "<table border=\"1\" class=\"dataframe\">\n",
       "  <thead>\n",
       "    <tr style=\"text-align: right;\">\n",
       "      <th></th>\n",
       "      <th>s/n</th>\n",
       "      <th>state</th>\n",
       "      <th>constituency</th>\n",
       "      <th>name of candidate</th>\n",
       "      <th>party</th>\n",
       "      <th>pwd</th>\n",
       "      <th>age</th>\n",
       "      <th>gender</th>\n",
       "      <th>qualifications</th>\n",
       "      <th>remarks</th>\n",
       "    </tr>\n",
       "  </thead>\n",
       "  <tbody>\n",
       "    <tr>\n",
       "      <th>7</th>\n",
       "      <td>64</td>\n",
       "      <td>NaN</td>\n",
       "      <td>Shinkafi/Zurmi</td>\n",
       "      <td>IBRAHIM KABIRU</td>\n",
       "      <td>APGA</td>\n",
       "      <td>None</td>\n",
       "      <td>36</td>\n",
       "      <td>M</td>\n",
       "      <td>FSLC SSCE ND</td>\n",
       "      <td>NaN</td>\n",
       "    </tr>\n",
       "    <tr>\n",
       "      <th>8</th>\n",
       "      <td>65</td>\n",
       "      <td>NaN</td>\n",
       "      <td>Shinkafi/Zurmi</td>\n",
       "      <td>BAWA MUSTAPHA</td>\n",
       "      <td>APP</td>\n",
       "      <td>None</td>\n",
       "      <td>34</td>\n",
       "      <td>M</td>\n",
       "      <td>FSLC SSCE</td>\n",
       "      <td>NaN</td>\n",
       "    </tr>\n",
       "    <tr>\n",
       "      <th>9</th>\n",
       "      <td>66</td>\n",
       "      <td>NaN</td>\n",
       "      <td>Shinkafi/Zurmi</td>\n",
       "      <td>GARBA  SULEIMAN</td>\n",
       "      <td>NNPP</td>\n",
       "      <td>None</td>\n",
       "      <td>43</td>\n",
       "      <td>M</td>\n",
       "      <td>PRIMARY SCHOOL CERTIFICATE SSCE ND, HND, BACHE...</td>\n",
       "      <td>NaN</td>\n",
       "    </tr>\n",
       "    <tr>\n",
       "      <th>10</th>\n",
       "      <td>67</td>\n",
       "      <td>NaN</td>\n",
       "      <td>Shinkafi/Zurmi</td>\n",
       "      <td>HASSAN BELLO SHINKAFI</td>\n",
       "      <td>PDP</td>\n",
       "      <td>None</td>\n",
       "      <td>52</td>\n",
       "      <td>M</td>\n",
       "      <td>FSLC GRADE 2 SCHOOL OF ACCOUNTANCY</td>\n",
       "      <td>NaN</td>\n",
       "    </tr>\n",
       "    <tr>\n",
       "      <th>11</th>\n",
       "      <td>68</td>\n",
       "      <td>NaN</td>\n",
       "      <td>Shinkafi/Zurmi</td>\n",
       "      <td>ISIYAKA SHAMSUDEEN</td>\n",
       "      <td>SDP</td>\n",
       "      <td>None</td>\n",
       "      <td>36</td>\n",
       "      <td>M</td>\n",
       "      <td>MAGAJI DANGO (SMP) INSTITUTE FOR COMPREHENSIVE...</td>\n",
       "      <td>NaN</td>\n",
       "    </tr>\n",
       "  </tbody>\n",
       "</table>\n",
       "</div>"
      ],
      "text/plain": [
       "   s/n state    constituency      name of candidate party   pwd  age gender  \\\n",
       "7   64   NaN  Shinkafi/Zurmi         IBRAHIM KABIRU  APGA  None   36      M   \n",
       "8   65   NaN  Shinkafi/Zurmi          BAWA MUSTAPHA   APP  None   34      M   \n",
       "9   66   NaN  Shinkafi/Zurmi        GARBA  SULEIMAN  NNPP  None   43      M   \n",
       "10  67   NaN  Shinkafi/Zurmi  HASSAN BELLO SHINKAFI   PDP  None   52      M   \n",
       "11  68   NaN  Shinkafi/Zurmi     ISIYAKA SHAMSUDEEN   SDP  None   36      M   \n",
       "\n",
       "                                       qualifications remarks  \n",
       "7                                        FSLC SSCE ND     NaN  \n",
       "8                                           FSLC SSCE     NaN  \n",
       "9   PRIMARY SCHOOL CERTIFICATE SSCE ND, HND, BACHE...     NaN  \n",
       "10                 FSLC GRADE 2 SCHOOL OF ACCOUNTANCY     NaN  \n",
       "11  MAGAJI DANGO (SMP) INSTITUTE FOR COMPREHENSIVE...     NaN  "
      ]
     },
     "execution_count": 91,
     "metadata": {},
     "output_type": "execute_result"
    }
   ],
   "source": [
    "house_df.tail()"
   ]
  },
  {
   "cell_type": "code",
   "execution_count": 92,
   "id": "eb70d3f7",
   "metadata": {},
   "outputs": [],
   "source": [
    "house_df.insert(3, 'position', 'house')"
   ]
  },
  {
   "cell_type": "code",
   "execution_count": 93,
   "id": "c6048a44",
   "metadata": {},
   "outputs": [],
   "source": [
    "house_df['source'] = 'https://inecnigeria.org/wp-content/uploads/2022/09/Final-List-of-Candidates-for-National-Elections-1.pdf'"
   ]
  },
  {
   "cell_type": "code",
   "execution_count": 99,
   "id": "100bb2df",
   "metadata": {},
   "outputs": [
    {
     "data": {
      "text/html": [
       "<div>\n",
       "<style scoped>\n",
       "    .dataframe tbody tr th:only-of-type {\n",
       "        vertical-align: middle;\n",
       "    }\n",
       "\n",
       "    .dataframe tbody tr th {\n",
       "        vertical-align: top;\n",
       "    }\n",
       "\n",
       "    .dataframe thead th {\n",
       "        text-align: right;\n",
       "    }\n",
       "</style>\n",
       "<table border=\"1\" class=\"dataframe\">\n",
       "  <thead>\n",
       "    <tr style=\"text-align: right;\">\n",
       "      <th></th>\n",
       "      <th>s/n</th>\n",
       "      <th>state</th>\n",
       "      <th>constituency</th>\n",
       "      <th>position</th>\n",
       "      <th>name of candidate</th>\n",
       "      <th>party</th>\n",
       "      <th>pwd</th>\n",
       "      <th>age</th>\n",
       "      <th>gender</th>\n",
       "      <th>qualifications</th>\n",
       "      <th>remarks</th>\n",
       "      <th>source</th>\n",
       "    </tr>\n",
       "  </thead>\n",
       "  <tbody>\n",
       "    <tr>\n",
       "      <th>7</th>\n",
       "      <td>64</td>\n",
       "      <td>NaN</td>\n",
       "      <td>Shinkafi/Zurmi</td>\n",
       "      <td>house</td>\n",
       "      <td>IBRAHIM KABIRU</td>\n",
       "      <td>APGA</td>\n",
       "      <td>None</td>\n",
       "      <td>36</td>\n",
       "      <td>M</td>\n",
       "      <td>FSLC SSCE ND</td>\n",
       "      <td>NaN</td>\n",
       "      <td>https://inecnigeria.org/wp-content/uploads/202...</td>\n",
       "    </tr>\n",
       "    <tr>\n",
       "      <th>8</th>\n",
       "      <td>65</td>\n",
       "      <td>NaN</td>\n",
       "      <td>Shinkafi/Zurmi</td>\n",
       "      <td>house</td>\n",
       "      <td>BAWA MUSTAPHA</td>\n",
       "      <td>APP</td>\n",
       "      <td>None</td>\n",
       "      <td>34</td>\n",
       "      <td>M</td>\n",
       "      <td>FSLC SSCE</td>\n",
       "      <td>NaN</td>\n",
       "      <td>https://inecnigeria.org/wp-content/uploads/202...</td>\n",
       "    </tr>\n",
       "    <tr>\n",
       "      <th>9</th>\n",
       "      <td>66</td>\n",
       "      <td>NaN</td>\n",
       "      <td>Shinkafi/Zurmi</td>\n",
       "      <td>house</td>\n",
       "      <td>GARBA  SULEIMAN</td>\n",
       "      <td>NNPP</td>\n",
       "      <td>None</td>\n",
       "      <td>43</td>\n",
       "      <td>M</td>\n",
       "      <td>PRIMARY SCHOOL CERTIFICATE SSCE ND, HND, BACHE...</td>\n",
       "      <td>NaN</td>\n",
       "      <td>https://inecnigeria.org/wp-content/uploads/202...</td>\n",
       "    </tr>\n",
       "    <tr>\n",
       "      <th>10</th>\n",
       "      <td>67</td>\n",
       "      <td>NaN</td>\n",
       "      <td>Shinkafi/Zurmi</td>\n",
       "      <td>house</td>\n",
       "      <td>HASSAN BELLO SHINKAFI</td>\n",
       "      <td>PDP</td>\n",
       "      <td>None</td>\n",
       "      <td>52</td>\n",
       "      <td>M</td>\n",
       "      <td>FSLC GRADE 2 SCHOOL OF ACCOUNTANCY</td>\n",
       "      <td>NaN</td>\n",
       "      <td>https://inecnigeria.org/wp-content/uploads/202...</td>\n",
       "    </tr>\n",
       "    <tr>\n",
       "      <th>11</th>\n",
       "      <td>68</td>\n",
       "      <td>NaN</td>\n",
       "      <td>Shinkafi/Zurmi</td>\n",
       "      <td>house</td>\n",
       "      <td>ISIYAKA SHAMSUDEEN</td>\n",
       "      <td>SDP</td>\n",
       "      <td>None</td>\n",
       "      <td>36</td>\n",
       "      <td>M</td>\n",
       "      <td>MAGAJI DANGO (SMP) INSTITUTE FOR COMPREHENSIVE...</td>\n",
       "      <td>NaN</td>\n",
       "      <td>https://inecnigeria.org/wp-content/uploads/202...</td>\n",
       "    </tr>\n",
       "  </tbody>\n",
       "</table>\n",
       "</div>"
      ],
      "text/plain": [
       "   s/n state    constituency position      name of candidate party   pwd  age  \\\n",
       "7   64   NaN  Shinkafi/Zurmi    house         IBRAHIM KABIRU  APGA  None   36   \n",
       "8   65   NaN  Shinkafi/Zurmi    house          BAWA MUSTAPHA   APP  None   34   \n",
       "9   66   NaN  Shinkafi/Zurmi    house        GARBA  SULEIMAN  NNPP  None   43   \n",
       "10  67   NaN  Shinkafi/Zurmi    house  HASSAN BELLO SHINKAFI   PDP  None   52   \n",
       "11  68   NaN  Shinkafi/Zurmi    house     ISIYAKA SHAMSUDEEN   SDP  None   36   \n",
       "\n",
       "   gender                                     qualifications remarks  \\\n",
       "7       M                                       FSLC SSCE ND     NaN   \n",
       "8       M                                          FSLC SSCE     NaN   \n",
       "9       M  PRIMARY SCHOOL CERTIFICATE SSCE ND, HND, BACHE...     NaN   \n",
       "10      M                 FSLC GRADE 2 SCHOOL OF ACCOUNTANCY     NaN   \n",
       "11      M  MAGAJI DANGO (SMP) INSTITUTE FOR COMPREHENSIVE...     NaN   \n",
       "\n",
       "                                               source  \n",
       "7   https://inecnigeria.org/wp-content/uploads/202...  \n",
       "8   https://inecnigeria.org/wp-content/uploads/202...  \n",
       "9   https://inecnigeria.org/wp-content/uploads/202...  \n",
       "10  https://inecnigeria.org/wp-content/uploads/202...  \n",
       "11  https://inecnigeria.org/wp-content/uploads/202...  "
      ]
     },
     "execution_count": 99,
     "metadata": {},
     "output_type": "execute_result"
    }
   ],
   "source": [
    "house_df.tail()"
   ]
  },
  {
   "cell_type": "code",
   "execution_count": 94,
   "id": "5e3caeb1",
   "metadata": {},
   "outputs": [
    {
     "name": "stdout",
     "output_type": "stream",
     "text": [
      "4\n"
     ]
    }
   ],
   "source": [
    "print(house_df.duplicated().sum())"
   ]
  },
  {
   "cell_type": "code",
   "execution_count": 96,
   "id": "e0b17a2a",
   "metadata": {},
   "outputs": [],
   "source": [
    "house_df = house_df.drop_duplicates()"
   ]
  },
  {
   "cell_type": "code",
   "execution_count": 97,
   "id": "34f480c0",
   "metadata": {},
   "outputs": [
    {
     "name": "stdout",
     "output_type": "stream",
     "text": [
      "0\n"
     ]
    }
   ],
   "source": [
    "print(house_df.duplicated().sum())"
   ]
  },
  {
   "cell_type": "code",
   "execution_count": 95,
   "id": "9fa000d1",
   "metadata": {},
   "outputs": [
    {
     "name": "stdout",
     "output_type": "stream",
     "text": [
      "s/n                   288\n",
      "state                  37\n",
      "constituency          367\n",
      "position                1\n",
      "name of candidate    3091\n",
      "party                  18\n",
      "pwd                     6\n",
      "age                    50\n",
      "gender                  2\n",
      "qualifications       1423\n",
      "remarks                 2\n",
      "source                  1\n",
      "dtype: int64\n"
     ]
    }
   ],
   "source": [
    "uniqueValues = house_df.nunique()\n",
    "print(uniqueValues)"
   ]
  },
  {
   "cell_type": "code",
   "execution_count": 98,
   "id": "6e87f077",
   "metadata": {},
   "outputs": [
    {
     "data": {
      "text/plain": [
       "1     Aba North/Aba South\n",
       "2     Aba North/Aba South\n",
       "3     Aba North/Aba South\n",
       "4     Aba North/Aba South\n",
       "5     Aba North/Aba South\n",
       "             ...         \n",
       "7          Shinkafi/Zurmi\n",
       "8          Shinkafi/Zurmi\n",
       "9          Shinkafi/Zurmi\n",
       "10         Shinkafi/Zurmi\n",
       "11         Shinkafi/Zurmi\n",
       "Name: constituency, Length: 3107, dtype: object"
      ]
     },
     "execution_count": 98,
     "metadata": {},
     "output_type": "execute_result"
    }
   ],
   "source": [
    "house_df['name of candidate'].replace(r'\\s+',' ', regex=True)\n",
    "house_df['qualifications'].replace(r'\\s+',' ', regex=True)\n",
    "house_df['constituency'].replace(r'\\s+',' ', regex=True)"
   ]
  },
  {
   "cell_type": "markdown",
   "id": "f2e03ba9",
   "metadata": {},
   "source": [
    "<h2>Exporting to csv</h2>"
   ]
  },
  {
   "cell_type": "code",
   "execution_count": 100,
   "id": "ba222cd4",
   "metadata": {},
   "outputs": [],
   "source": [
    "pres_df.to_csv(\"president_list.csv\",index= False, header= True)"
   ]
  },
  {
   "cell_type": "code",
   "execution_count": 101,
   "id": "32e65bdf",
   "metadata": {},
   "outputs": [],
   "source": [
    "sen_df.to_csv(\"senate_list.csv\",index= False, header= True)"
   ]
  },
  {
   "cell_type": "code",
   "execution_count": 103,
   "id": "9134dd07",
   "metadata": {},
   "outputs": [],
   "source": [
    "house_df.to_csv(\"house_list.csv\",index= False, header= True)"
   ]
  }
 ],
 "metadata": {
  "kernelspec": {
   "display_name": "Python 3 (ipykernel)",
   "language": "python",
   "name": "python3"
  },
  "language_info": {
   "codemirror_mode": {
    "name": "ipython",
    "version": 3
   },
   "file_extension": ".py",
   "mimetype": "text/x-python",
   "name": "python",
   "nbconvert_exporter": "python",
   "pygments_lexer": "ipython3",
   "version": "3.10.9"
  }
 },
 "nbformat": 4,
 "nbformat_minor": 5
}
