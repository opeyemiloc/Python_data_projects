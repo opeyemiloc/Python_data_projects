{
 "cells": [
  {
   "cell_type": "code",
   "execution_count": 1,
   "id": "c7c58c8f",
   "metadata": {},
   "outputs": [],
   "source": [
    "from selenium import webdriver\n",
    "from selenium.common.exceptions import TimeoutException\n",
    "from selenium.webdriver.support.ui import Select\n",
    "from selenium.webdriver.common.by import By\n",
    "import pandas as pd\n",
    "from selenium.webdriver.support.ui import WebDriverWait\n",
    "from selenium.webdriver.support import expected_conditions as EC\n",
    "import time"
   ]
  },
  {
   "cell_type": "code",
   "execution_count": 7,
   "id": "5cf389c2",
   "metadata": {},
   "outputs": [],
   "source": [
    "def get_polling_unit(state_index):\n",
    "    # Create a new instance of the Chrome driver\n",
    "    driver = webdriver.Chrome()\n",
    "    url = \"https://www.inecnigeria.org/elections/polling-units/\"\n",
    "    # Navigating to the website url\n",
    "    driver.set_page_load_timeout(1000)\n",
    "\n",
    "    driver.get(url)\n",
    "\n",
    "    state_drp = driver.find_element(By.ID, \"statePoll\")\n",
    "    select_state  = Select(state_drp)\n",
    "\n",
    "    # Selecting state using index value\n",
    "    select_state.select_by_index(state_index)\n",
    "\n",
    "    # Find the LGA menu\n",
    "    lga_drp = driver.find_element(By.ID, \"lgaPoll\")\n",
    "    select_lga  = Select(lga_drp)\n",
    "\n",
    "    # Wait for page to load and lga dropmenu available\n",
    "    wait = WebDriverWait(driver, 1000)\n",
    "    lga_options = wait.until(EC.presence_of_all_elements_located((By.CSS_SELECTOR, \"#lgaPoll option\")))\n",
    "\n",
    "    # list to store DF for LGA\n",
    "    lga_result = []\n",
    "    \n",
    "    # store wards for LGA\n",
    "    result = pd.DataFrame()\n",
    "\n",
    "    # Loop through all the options in the \"LGA\" dropdown menu\n",
    "\n",
    "    for j, lga in enumerate(lga_options[1:], 1):\n",
    "        \n",
    "        #resetting the lga list \n",
    "        #lga_result = []\n",
    "        # Resetting the result dataframe\n",
    "        #result = pd.DataFrame()\n",
    "        \n",
    "        # Select the current option in the \"LGA\" dropdown menu\n",
    "        select_lga.select_by_index(j)\n",
    "\n",
    "        # Find the \"wardPoll\" dropdown menu\n",
    "        ward_drp = driver.find_element(By.ID, \"wardPoll\")\n",
    "        select_ward = Select(ward_drp)\n",
    "        \n",
    "        time.sleep(15)\n",
    "\n",
    "\n",
    "        # Wait for page to load and wardpoll menu to be available\n",
    "        WebDriverWait(driver, 20000).until(\n",
    "            EC.presence_of_all_elements_located((By.CSS_SELECTOR, \"#wardPoll option\"))\n",
    "        )\n",
    "\n",
    "        # Get a list of all the options in the \"wardPoll\" dropdown menu\n",
    "        ward_options = select_ward.options\n",
    "        \n",
    "        # Create a list to store the dataframes for each ward for the current ward in loop\n",
    "        result = []\n",
    "\n",
    "        # Loop through all the options in the \"wardPoll\" dropdown menu\n",
    "        \n",
    "        \n",
    "        for i, ward in enumerate(ward_options[1:], 1):\n",
    "            \n",
    "            # Select the current option in the \"wardPoll\" dropdown menu\n",
    "            select_ward.select_by_index(i)\n",
    "\n",
    "            # Wait for the searvh button to be interactable\n",
    "            search_poll_button = WebDriverWait(driver, 1200).until(\n",
    "                EC.element_to_be_clickable((By.ID, \"SearchPoll\"))\n",
    "            )\n",
    "\n",
    "            # Click the \"search poll\" button\n",
    "            search_poll_button.click()\n",
    "\n",
    "            time.sleep(20)\n",
    "\n",
    "            # Wait for the table with the results to be displayed\n",
    "            WebDriverWait(driver, 20000).until(\n",
    "                EC.presence_of_element_located((By.ID, \"result\")))\n",
    "            \n",
    "            time.sleep(10)\n",
    "            \n",
    "            \n",
    "            # Extract table with the results\n",
    "            table = driver.find_element(By.ID, \"result\")\n",
    "            \n",
    "            time.sleep(10)\n",
    "\n",
    "            # Store table in a dataframe\n",
    "            df = pd.read_html(table.get_attribute(\"outerHTML\"))[0]\n",
    "\n",
    "            # Adding the ward name and LGA name to the dataframe\n",
    "            df[\"ward_name\"] = ward_options[i].text\n",
    "            df[\"LGA_name\"] = lga_options[j].text\n",
    "            \n",
    "            # Append the current ward dataframe to the list of dataframes for the current LGA\n",
    "            result.append(df)\n",
    "            \n",
    "            time.sleep(10)\n",
    "            \n",
    "        # Concatenate all the dataframes for the current LGA into a single dataframe\n",
    "        lga_df = pd.concat(result, ignore_index=True)\n",
    "        \n",
    "        # Append the current LGA dataframe to the list of dataframes for all LGAs\n",
    "        lga_result.append(lga_df)\n",
    "        \n",
    "        \n",
    "    # Concatenate all the dataframes for all LGAs into a single dataframe\n",
    "    poll_df = pd.concat(lga_result)\n",
    "    return poll_df\n",
    "\n",
    "\n",
    "    driver.close()\n",
    "    "
   ]
  },
  {
   "cell_type": "code",
   "execution_count": 8,
   "id": "271c6855",
   "metadata": {
    "collapsed": true
   },
   "outputs": [
    {
     "ename": "ElementNotInteractableException",
     "evalue": "Message: element not interactable: Element is not currently visible and may not be manipulated\n  (Session info: chrome=109.0.5414.120)\nStacktrace:\nBacktrace:\n\t(No symbol) [0x00B36643]\n\t(No symbol) [0x00ACBE21]\n\t(No symbol) [0x009CDA9D]\n\t(No symbol) [0x009D09E4]\n\t(No symbol) [0x009D08AD]\n\t(No symbol) [0x009D0B30]\n\t(No symbol) [0x00A05AF7]\n\t(No symbol) [0x009F717A]\n\t(No symbol) [0x00A1FD7C]\n\t(No symbol) [0x009F641F]\n\t(No symbol) [0x00A200D4]\n\t(No symbol) [0x00A36B09]\n\t(No symbol) [0x00A1FB76]\n\t(No symbol) [0x009F49C1]\n\t(No symbol) [0x009F5E5D]\n\tGetHandleVerifier [0x00DAA142+2497106]\n\tGetHandleVerifier [0x00DD85D3+2686691]\n\tGetHandleVerifier [0x00DDBB9C+2700460]\n\tGetHandleVerifier [0x00BE3B10+635936]\n\t(No symbol) [0x00AD4A1F]\n\t(No symbol) [0x00ADA418]\n\t(No symbol) [0x00ADA505]\n\t(No symbol) [0x00AE508B]\n\tBaseThreadInitThunk [0x754B6359+25]\n\tRtlGetAppContainerNamedObjectPath [0x77678944+228]\n\tRtlGetAppContainerNamedObjectPath [0x77678914+180]\n",
     "output_type": "error",
     "traceback": [
      "\u001b[1;31m---------------------------------------------------------------------------\u001b[0m",
      "\u001b[1;31mElementNotInteractableException\u001b[0m           Traceback (most recent call last)",
      "\u001b[1;32m~\\AppData\\Local\\Temp\\ipykernel_10764\\3619878199.py\u001b[0m in \u001b[0;36m<module>\u001b[1;34m\u001b[0m\n\u001b[0;32m      1\u001b[0m \u001b[0mstate_index\u001b[0m \u001b[1;33m=\u001b[0m \u001b[1;36m1\u001b[0m\u001b[1;33m\u001b[0m\u001b[1;33m\u001b[0m\u001b[0m\n\u001b[1;32m----> 2\u001b[1;33m \u001b[0mAB2\u001b[0m \u001b[1;33m=\u001b[0m \u001b[0mget_polling_unit\u001b[0m\u001b[1;33m(\u001b[0m\u001b[0mstate_index\u001b[0m\u001b[1;33m)\u001b[0m\u001b[1;33m\u001b[0m\u001b[1;33m\u001b[0m\u001b[0m\n\u001b[0m",
      "\u001b[1;32m~\\AppData\\Local\\Temp\\ipykernel_10764\\621103879.py\u001b[0m in \u001b[0;36mget_polling_unit\u001b[1;34m(state_index)\u001b[0m\n\u001b[0;32m     64\u001b[0m \u001b[1;33m\u001b[0m\u001b[0m\n\u001b[0;32m     65\u001b[0m             \u001b[1;31m# Select the current option in the \"wardPoll\" dropdown menu\u001b[0m\u001b[1;33m\u001b[0m\u001b[1;33m\u001b[0m\u001b[0m\n\u001b[1;32m---> 66\u001b[1;33m             \u001b[0mselect_ward\u001b[0m\u001b[1;33m.\u001b[0m\u001b[0mselect_by_index\u001b[0m\u001b[1;33m(\u001b[0m\u001b[0mi\u001b[0m\u001b[1;33m)\u001b[0m\u001b[1;33m\u001b[0m\u001b[1;33m\u001b[0m\u001b[0m\n\u001b[0m\u001b[0;32m     67\u001b[0m \u001b[1;33m\u001b[0m\u001b[0m\n\u001b[0;32m     68\u001b[0m             \u001b[1;31m# Wait for the button to be interactable\u001b[0m\u001b[1;33m\u001b[0m\u001b[1;33m\u001b[0m\u001b[0m\n",
      "\u001b[1;32mC:\\ProgramData\\Anaconda3\\lib\\site-packages\\selenium\\webdriver\\support\\select.py\u001b[0m in \u001b[0;36mselect_by_index\u001b[1;34m(self, index)\u001b[0m\n\u001b[0;32m     93\u001b[0m         \u001b[1;32mfor\u001b[0m \u001b[0mopt\u001b[0m \u001b[1;32min\u001b[0m \u001b[0mself\u001b[0m\u001b[1;33m.\u001b[0m\u001b[0moptions\u001b[0m\u001b[1;33m:\u001b[0m\u001b[1;33m\u001b[0m\u001b[1;33m\u001b[0m\u001b[0m\n\u001b[0;32m     94\u001b[0m             \u001b[1;32mif\u001b[0m \u001b[0mopt\u001b[0m\u001b[1;33m.\u001b[0m\u001b[0mget_attribute\u001b[0m\u001b[1;33m(\u001b[0m\u001b[1;34m\"index\"\u001b[0m\u001b[1;33m)\u001b[0m \u001b[1;33m==\u001b[0m \u001b[0mmatch\u001b[0m\u001b[1;33m:\u001b[0m\u001b[1;33m\u001b[0m\u001b[1;33m\u001b[0m\u001b[0m\n\u001b[1;32m---> 95\u001b[1;33m                 \u001b[0mself\u001b[0m\u001b[1;33m.\u001b[0m\u001b[0m_set_selected\u001b[0m\u001b[1;33m(\u001b[0m\u001b[0mopt\u001b[0m\u001b[1;33m)\u001b[0m\u001b[1;33m\u001b[0m\u001b[1;33m\u001b[0m\u001b[0m\n\u001b[0m\u001b[0;32m     96\u001b[0m                 \u001b[1;32mreturn\u001b[0m\u001b[1;33m\u001b[0m\u001b[1;33m\u001b[0m\u001b[0m\n\u001b[0;32m     97\u001b[0m         \u001b[1;32mraise\u001b[0m \u001b[0mNoSuchElementException\u001b[0m\u001b[1;33m(\u001b[0m\u001b[1;34mf\"Could not locate element with index {index}\"\u001b[0m\u001b[1;33m)\u001b[0m\u001b[1;33m\u001b[0m\u001b[1;33m\u001b[0m\u001b[0m\n",
      "\u001b[1;32mC:\\ProgramData\\Anaconda3\\lib\\site-packages\\selenium\\webdriver\\support\\select.py\u001b[0m in \u001b[0;36m_set_selected\u001b[1;34m(self, option)\u001b[0m\n\u001b[0;32m    209\u001b[0m             \u001b[1;32mif\u001b[0m \u001b[1;32mnot\u001b[0m \u001b[0moption\u001b[0m\u001b[1;33m.\u001b[0m\u001b[0mis_enabled\u001b[0m\u001b[1;33m(\u001b[0m\u001b[1;33m)\u001b[0m\u001b[1;33m:\u001b[0m\u001b[1;33m\u001b[0m\u001b[1;33m\u001b[0m\u001b[0m\n\u001b[0;32m    210\u001b[0m                 \u001b[1;32mraise\u001b[0m \u001b[0mNotImplementedError\u001b[0m\u001b[1;33m(\u001b[0m\u001b[1;34m\"You may not select a disabled option\"\u001b[0m\u001b[1;33m)\u001b[0m\u001b[1;33m\u001b[0m\u001b[1;33m\u001b[0m\u001b[0m\n\u001b[1;32m--> 211\u001b[1;33m             \u001b[0moption\u001b[0m\u001b[1;33m.\u001b[0m\u001b[0mclick\u001b[0m\u001b[1;33m(\u001b[0m\u001b[1;33m)\u001b[0m\u001b[1;33m\u001b[0m\u001b[1;33m\u001b[0m\u001b[0m\n\u001b[0m\u001b[0;32m    212\u001b[0m \u001b[1;33m\u001b[0m\u001b[0m\n\u001b[0;32m    213\u001b[0m     \u001b[1;32mdef\u001b[0m \u001b[0m_unset_selected\u001b[0m\u001b[1;33m(\u001b[0m\u001b[0mself\u001b[0m\u001b[1;33m,\u001b[0m \u001b[0moption\u001b[0m\u001b[1;33m)\u001b[0m \u001b[1;33m->\u001b[0m \u001b[1;32mNone\u001b[0m\u001b[1;33m:\u001b[0m\u001b[1;33m\u001b[0m\u001b[1;33m\u001b[0m\u001b[0m\n",
      "\u001b[1;32mC:\\ProgramData\\Anaconda3\\lib\\site-packages\\selenium\\webdriver\\remote\\webelement.py\u001b[0m in \u001b[0;36mclick\u001b[1;34m(self)\u001b[0m\n\u001b[0;32m     91\u001b[0m     \u001b[1;32mdef\u001b[0m \u001b[0mclick\u001b[0m\u001b[1;33m(\u001b[0m\u001b[0mself\u001b[0m\u001b[1;33m)\u001b[0m \u001b[1;33m->\u001b[0m \u001b[1;32mNone\u001b[0m\u001b[1;33m:\u001b[0m\u001b[1;33m\u001b[0m\u001b[1;33m\u001b[0m\u001b[0m\n\u001b[0;32m     92\u001b[0m         \u001b[1;34m\"\"\"Clicks the element.\"\"\"\u001b[0m\u001b[1;33m\u001b[0m\u001b[1;33m\u001b[0m\u001b[0m\n\u001b[1;32m---> 93\u001b[1;33m         \u001b[0mself\u001b[0m\u001b[1;33m.\u001b[0m\u001b[0m_execute\u001b[0m\u001b[1;33m(\u001b[0m\u001b[0mCommand\u001b[0m\u001b[1;33m.\u001b[0m\u001b[0mCLICK_ELEMENT\u001b[0m\u001b[1;33m)\u001b[0m\u001b[1;33m\u001b[0m\u001b[1;33m\u001b[0m\u001b[0m\n\u001b[0m\u001b[0;32m     94\u001b[0m \u001b[1;33m\u001b[0m\u001b[0m\n\u001b[0;32m     95\u001b[0m     \u001b[1;32mdef\u001b[0m \u001b[0msubmit\u001b[0m\u001b[1;33m(\u001b[0m\u001b[0mself\u001b[0m\u001b[1;33m)\u001b[0m\u001b[1;33m:\u001b[0m\u001b[1;33m\u001b[0m\u001b[1;33m\u001b[0m\u001b[0m\n",
      "\u001b[1;32mC:\\ProgramData\\Anaconda3\\lib\\site-packages\\selenium\\webdriver\\remote\\webelement.py\u001b[0m in \u001b[0;36m_execute\u001b[1;34m(self, command, params)\u001b[0m\n\u001b[0;32m    401\u001b[0m             \u001b[0mparams\u001b[0m \u001b[1;33m=\u001b[0m \u001b[1;33m{\u001b[0m\u001b[1;33m}\u001b[0m\u001b[1;33m\u001b[0m\u001b[1;33m\u001b[0m\u001b[0m\n\u001b[0;32m    402\u001b[0m         \u001b[0mparams\u001b[0m\u001b[1;33m[\u001b[0m\u001b[1;34m\"id\"\u001b[0m\u001b[1;33m]\u001b[0m \u001b[1;33m=\u001b[0m \u001b[0mself\u001b[0m\u001b[1;33m.\u001b[0m\u001b[0m_id\u001b[0m\u001b[1;33m\u001b[0m\u001b[1;33m\u001b[0m\u001b[0m\n\u001b[1;32m--> 403\u001b[1;33m         \u001b[1;32mreturn\u001b[0m \u001b[0mself\u001b[0m\u001b[1;33m.\u001b[0m\u001b[0m_parent\u001b[0m\u001b[1;33m.\u001b[0m\u001b[0mexecute\u001b[0m\u001b[1;33m(\u001b[0m\u001b[0mcommand\u001b[0m\u001b[1;33m,\u001b[0m \u001b[0mparams\u001b[0m\u001b[1;33m)\u001b[0m\u001b[1;33m\u001b[0m\u001b[1;33m\u001b[0m\u001b[0m\n\u001b[0m\u001b[0;32m    404\u001b[0m \u001b[1;33m\u001b[0m\u001b[0m\n\u001b[0;32m    405\u001b[0m     \u001b[1;32mdef\u001b[0m \u001b[0mfind_element\u001b[0m\u001b[1;33m(\u001b[0m\u001b[0mself\u001b[0m\u001b[1;33m,\u001b[0m \u001b[0mby\u001b[0m\u001b[1;33m=\u001b[0m\u001b[0mBy\u001b[0m\u001b[1;33m.\u001b[0m\u001b[0mID\u001b[0m\u001b[1;33m,\u001b[0m \u001b[0mvalue\u001b[0m\u001b[1;33m=\u001b[0m\u001b[1;32mNone\u001b[0m\u001b[1;33m)\u001b[0m \u001b[1;33m->\u001b[0m \u001b[0mWebElement\u001b[0m\u001b[1;33m:\u001b[0m\u001b[1;33m\u001b[0m\u001b[1;33m\u001b[0m\u001b[0m\n",
      "\u001b[1;32mC:\\ProgramData\\Anaconda3\\lib\\site-packages\\selenium\\webdriver\\remote\\webdriver.py\u001b[0m in \u001b[0;36mexecute\u001b[1;34m(self, driver_command, params)\u001b[0m\n\u001b[0;32m    438\u001b[0m         \u001b[0mresponse\u001b[0m \u001b[1;33m=\u001b[0m \u001b[0mself\u001b[0m\u001b[1;33m.\u001b[0m\u001b[0mcommand_executor\u001b[0m\u001b[1;33m.\u001b[0m\u001b[0mexecute\u001b[0m\u001b[1;33m(\u001b[0m\u001b[0mdriver_command\u001b[0m\u001b[1;33m,\u001b[0m \u001b[0mparams\u001b[0m\u001b[1;33m)\u001b[0m\u001b[1;33m\u001b[0m\u001b[1;33m\u001b[0m\u001b[0m\n\u001b[0;32m    439\u001b[0m         \u001b[1;32mif\u001b[0m \u001b[0mresponse\u001b[0m\u001b[1;33m:\u001b[0m\u001b[1;33m\u001b[0m\u001b[1;33m\u001b[0m\u001b[0m\n\u001b[1;32m--> 440\u001b[1;33m             \u001b[0mself\u001b[0m\u001b[1;33m.\u001b[0m\u001b[0merror_handler\u001b[0m\u001b[1;33m.\u001b[0m\u001b[0mcheck_response\u001b[0m\u001b[1;33m(\u001b[0m\u001b[0mresponse\u001b[0m\u001b[1;33m)\u001b[0m\u001b[1;33m\u001b[0m\u001b[1;33m\u001b[0m\u001b[0m\n\u001b[0m\u001b[0;32m    441\u001b[0m             \u001b[0mresponse\u001b[0m\u001b[1;33m[\u001b[0m\u001b[1;34m\"value\"\u001b[0m\u001b[1;33m]\u001b[0m \u001b[1;33m=\u001b[0m \u001b[0mself\u001b[0m\u001b[1;33m.\u001b[0m\u001b[0m_unwrap_value\u001b[0m\u001b[1;33m(\u001b[0m\u001b[0mresponse\u001b[0m\u001b[1;33m.\u001b[0m\u001b[0mget\u001b[0m\u001b[1;33m(\u001b[0m\u001b[1;34m\"value\"\u001b[0m\u001b[1;33m,\u001b[0m \u001b[1;32mNone\u001b[0m\u001b[1;33m)\u001b[0m\u001b[1;33m)\u001b[0m\u001b[1;33m\u001b[0m\u001b[1;33m\u001b[0m\u001b[0m\n\u001b[0;32m    442\u001b[0m             \u001b[1;32mreturn\u001b[0m \u001b[0mresponse\u001b[0m\u001b[1;33m\u001b[0m\u001b[1;33m\u001b[0m\u001b[0m\n",
      "\u001b[1;32mC:\\ProgramData\\Anaconda3\\lib\\site-packages\\selenium\\webdriver\\remote\\errorhandler.py\u001b[0m in \u001b[0;36mcheck_response\u001b[1;34m(self, response)\u001b[0m\n\u001b[0;32m    243\u001b[0m                 \u001b[0malert_text\u001b[0m \u001b[1;33m=\u001b[0m \u001b[0mvalue\u001b[0m\u001b[1;33m[\u001b[0m\u001b[1;34m\"alert\"\u001b[0m\u001b[1;33m]\u001b[0m\u001b[1;33m.\u001b[0m\u001b[0mget\u001b[0m\u001b[1;33m(\u001b[0m\u001b[1;34m\"text\"\u001b[0m\u001b[1;33m)\u001b[0m\u001b[1;33m\u001b[0m\u001b[1;33m\u001b[0m\u001b[0m\n\u001b[0;32m    244\u001b[0m             \u001b[1;32mraise\u001b[0m \u001b[0mexception_class\u001b[0m\u001b[1;33m(\u001b[0m\u001b[0mmessage\u001b[0m\u001b[1;33m,\u001b[0m \u001b[0mscreen\u001b[0m\u001b[1;33m,\u001b[0m \u001b[0mstacktrace\u001b[0m\u001b[1;33m,\u001b[0m \u001b[0malert_text\u001b[0m\u001b[1;33m)\u001b[0m  \u001b[1;31m# type: ignore[call-arg]  # mypy is not smart enough here\u001b[0m\u001b[1;33m\u001b[0m\u001b[1;33m\u001b[0m\u001b[0m\n\u001b[1;32m--> 245\u001b[1;33m         \u001b[1;32mraise\u001b[0m \u001b[0mexception_class\u001b[0m\u001b[1;33m(\u001b[0m\u001b[0mmessage\u001b[0m\u001b[1;33m,\u001b[0m \u001b[0mscreen\u001b[0m\u001b[1;33m,\u001b[0m \u001b[0mstacktrace\u001b[0m\u001b[1;33m)\u001b[0m\u001b[1;33m\u001b[0m\u001b[1;33m\u001b[0m\u001b[0m\n\u001b[0m",
      "\u001b[1;31mElementNotInteractableException\u001b[0m: Message: element not interactable: Element is not currently visible and may not be manipulated\n  (Session info: chrome=109.0.5414.120)\nStacktrace:\nBacktrace:\n\t(No symbol) [0x00B36643]\n\t(No symbol) [0x00ACBE21]\n\t(No symbol) [0x009CDA9D]\n\t(No symbol) [0x009D09E4]\n\t(No symbol) [0x009D08AD]\n\t(No symbol) [0x009D0B30]\n\t(No symbol) [0x00A05AF7]\n\t(No symbol) [0x009F717A]\n\t(No symbol) [0x00A1FD7C]\n\t(No symbol) [0x009F641F]\n\t(No symbol) [0x00A200D4]\n\t(No symbol) [0x00A36B09]\n\t(No symbol) [0x00A1FB76]\n\t(No symbol) [0x009F49C1]\n\t(No symbol) [0x009F5E5D]\n\tGetHandleVerifier [0x00DAA142+2497106]\n\tGetHandleVerifier [0x00DD85D3+2686691]\n\tGetHandleVerifier [0x00DDBB9C+2700460]\n\tGetHandleVerifier [0x00BE3B10+635936]\n\t(No symbol) [0x00AD4A1F]\n\t(No symbol) [0x00ADA418]\n\t(No symbol) [0x00ADA505]\n\t(No symbol) [0x00AE508B]\n\tBaseThreadInitThunk [0x754B6359+25]\n\tRtlGetAppContainerNamedObjectPath [0x77678944+228]\n\tRtlGetAppContainerNamedObjectPath [0x77678914+180]\n"
     ]
    }
   ],
   "source": [
    "state_index = 1 \n",
    "AB2 = get_polling_unit(state_index)"
   ]
  },
  {
   "cell_type": "code",
   "execution_count": null,
   "id": "bb98753b",
   "metadata": {},
   "outputs": [],
   "source": [
    "AB2"
   ]
  },
  {
   "cell_type": "code",
   "execution_count": null,
   "id": "1e01b246",
   "metadata": {},
   "outputs": [],
   "source": [
    "AB2['State'] = \"Abia\""
   ]
  },
  {
   "cell_type": "code",
   "execution_count": null,
   "id": "aeb2f939",
   "metadata": {},
   "outputs": [],
   "source": [
    "AB2"
   ]
  },
  {
   "cell_type": "code",
   "execution_count": null,
   "id": "f66edca9",
   "metadata": {},
   "outputs": [],
   "source": [
    "AB2.to_csv('AB2_PU.csv')"
   ]
  },
  {
   "cell_type": "code",
   "execution_count": null,
   "id": "e607970a",
   "metadata": {},
   "outputs": [],
   "source": []
  },
  {
   "cell_type": "code",
   "execution_count": null,
   "id": "ed94fdfa",
   "metadata": {},
   "outputs": [],
   "source": []
  },
  {
   "cell_type": "code",
   "execution_count": null,
   "id": "4a033583",
   "metadata": {},
   "outputs": [],
   "source": []
  },
  {
   "cell_type": "code",
   "execution_count": null,
   "id": "5801f2cb",
   "metadata": {},
   "outputs": [],
   "source": [
    "state_index = 2 \n",
    "AD2 = get_polling_unit(state_index)"
   ]
  },
  {
   "cell_type": "code",
   "execution_count": null,
   "id": "5093c88a",
   "metadata": {},
   "outputs": [],
   "source": [
    "AD2"
   ]
  },
  {
   "cell_type": "code",
   "execution_count": null,
   "id": "e7eec23c",
   "metadata": {},
   "outputs": [],
   "source": [
    "AD2['State'] = \"Adamawa\""
   ]
  },
  {
   "cell_type": "code",
   "execution_count": null,
   "id": "4b3b05e7",
   "metadata": {},
   "outputs": [],
   "source": [
    "AD2"
   ]
  },
  {
   "cell_type": "code",
   "execution_count": null,
   "id": "58283c63",
   "metadata": {},
   "outputs": [],
   "source": [
    "AD2.to_csv('AD2_PU.csv')"
   ]
  },
  {
   "cell_type": "code",
   "execution_count": null,
   "id": "da7740c5",
   "metadata": {},
   "outputs": [],
   "source": []
  },
  {
   "cell_type": "code",
   "execution_count": null,
   "id": "7e0aff54",
   "metadata": {},
   "outputs": [],
   "source": [
    "#rerun this state after finishing\n",
    "state_index = 3 \n",
    "AK2 = get_polling_unit(state_index)"
   ]
  },
  {
   "cell_type": "code",
   "execution_count": null,
   "id": "d9b3a8aa",
   "metadata": {},
   "outputs": [],
   "source": [
    "AK2"
   ]
  },
  {
   "cell_type": "code",
   "execution_count": null,
   "id": "2e080bc5",
   "metadata": {},
   "outputs": [],
   "source": [
    "AK2['State'] = \"Akwa Ibom\"\n",
    "AK2"
   ]
  },
  {
   "cell_type": "code",
   "execution_count": null,
   "id": "4ef4fcb9",
   "metadata": {},
   "outputs": [],
   "source": [
    "AK2.to_csv('AK2_PU.csv')"
   ]
  },
  {
   "cell_type": "code",
   "execution_count": null,
   "id": "9aa4fea4",
   "metadata": {},
   "outputs": [],
   "source": []
  },
  {
   "cell_type": "code",
   "execution_count": null,
   "id": "9162d6bd",
   "metadata": {},
   "outputs": [],
   "source": []
  },
  {
   "cell_type": "code",
   "execution_count": null,
   "id": "41f994df",
   "metadata": {},
   "outputs": [],
   "source": []
  },
  {
   "cell_type": "code",
   "execution_count": null,
   "id": "4ee95c98",
   "metadata": {},
   "outputs": [],
   "source": []
  },
  {
   "cell_type": "code",
   "execution_count": null,
   "id": "536cd427",
   "metadata": {},
   "outputs": [],
   "source": []
  },
  {
   "cell_type": "code",
   "execution_count": null,
   "id": "5226c19a",
   "metadata": {},
   "outputs": [],
   "source": [
    "state_index = 4 \n",
    "AN2 = get_polling_unit(state_index)"
   ]
  },
  {
   "cell_type": "code",
   "execution_count": null,
   "id": "6e6ac3e3",
   "metadata": {},
   "outputs": [],
   "source": []
  },
  {
   "cell_type": "code",
   "execution_count": null,
   "id": "6a0316df",
   "metadata": {},
   "outputs": [],
   "source": [
    "AN"
   ]
  },
  {
   "cell_type": "code",
   "execution_count": null,
   "id": "4746965b",
   "metadata": {},
   "outputs": [],
   "source": [
    "AN2['State'] = \"Anambra\"\n",
    "AN2"
   ]
  },
  {
   "cell_type": "code",
   "execution_count": null,
   "id": "3058df34",
   "metadata": {},
   "outputs": [],
   "source": [
    "AN2.to_csv('AN_PU.csv')"
   ]
  },
  {
   "cell_type": "code",
   "execution_count": null,
   "id": "002bf99e",
   "metadata": {},
   "outputs": [],
   "source": []
  },
  {
   "cell_type": "code",
   "execution_count": null,
   "id": "f22d7ae3",
   "metadata": {},
   "outputs": [],
   "source": []
  },
  {
   "cell_type": "code",
   "execution_count": null,
   "id": "5d2e8676",
   "metadata": {},
   "outputs": [],
   "source": []
  },
  {
   "cell_type": "code",
   "execution_count": null,
   "id": "c75c3cb8",
   "metadata": {},
   "outputs": [],
   "source": [
    "state_index = 5 \n",
    "BA = get_polling_unit(state_index)"
   ]
  },
  {
   "cell_type": "code",
   "execution_count": null,
   "id": "e350e0a8",
   "metadata": {},
   "outputs": [],
   "source": [
    "BA"
   ]
  },
  {
   "cell_type": "code",
   "execution_count": null,
   "id": "237b19fb",
   "metadata": {},
   "outputs": [],
   "source": [
    "BA['State'] = \"Bauchi\"\n",
    "BA"
   ]
  },
  {
   "cell_type": "code",
   "execution_count": null,
   "id": "c8135f47",
   "metadata": {},
   "outputs": [],
   "source": [
    "BA.to_csv('BA_PU.csv')"
   ]
  },
  {
   "cell_type": "code",
   "execution_count": null,
   "id": "703fd53e",
   "metadata": {},
   "outputs": [],
   "source": []
  },
  {
   "cell_type": "code",
   "execution_count": null,
   "id": "3e6f80a1",
   "metadata": {},
   "outputs": [],
   "source": []
  },
  {
   "cell_type": "code",
   "execution_count": null,
   "id": "1808d34e",
   "metadata": {},
   "outputs": [],
   "source": []
  },
  {
   "cell_type": "code",
   "execution_count": null,
   "id": "aca22c1e",
   "metadata": {},
   "outputs": [],
   "source": []
  },
  {
   "cell_type": "code",
   "execution_count": null,
   "id": "a842e4a0",
   "metadata": {},
   "outputs": [],
   "source": []
  },
  {
   "cell_type": "code",
   "execution_count": null,
   "id": "0f05d681",
   "metadata": {},
   "outputs": [],
   "source": []
  },
  {
   "cell_type": "code",
   "execution_count": 9,
   "id": "ea51e4f8",
   "metadata": {},
   "outputs": [],
   "source": [
    "state_index = 6 \n",
    "BY2 = get_polling_unit(state_index)"
   ]
  },
  {
   "cell_type": "code",
   "execution_count": 10,
   "id": "b32c8824",
   "metadata": {},
   "outputs": [
    {
     "data": {
      "text/html": [
       "<div>\n",
       "<style scoped>\n",
       "    .dataframe tbody tr th:only-of-type {\n",
       "        vertical-align: middle;\n",
       "    }\n",
       "\n",
       "    .dataframe tbody tr th {\n",
       "        vertical-align: top;\n",
       "    }\n",
       "\n",
       "    .dataframe thead th {\n",
       "        text-align: right;\n",
       "    }\n",
       "</style>\n",
       "<table border=\"1\" class=\"dataframe\">\n",
       "  <thead>\n",
       "    <tr style=\"text-align: right;\">\n",
       "      <th></th>\n",
       "      <th>Polling Unit ID</th>\n",
       "      <th>Polling Unit Name</th>\n",
       "      <th>Remark</th>\n",
       "      <th>ward_name</th>\n",
       "      <th>LGA_name</th>\n",
       "    </tr>\n",
       "  </thead>\n",
       "  <tbody>\n",
       "    <tr>\n",
       "      <th>0</th>\n",
       "      <td>1</td>\n",
       "      <td>TOWN COMMUNITY SCHOOL BUILDING</td>\n",
       "      <td>EXISTING PU</td>\n",
       "      <td>BRASS 1</td>\n",
       "      <td>BRASS</td>\n",
       "    </tr>\n",
       "    <tr>\n",
       "      <th>1</th>\n",
       "      <td>2</td>\n",
       "      <td>GBUNDU OPEN SPACE</td>\n",
       "      <td>EXISTING PU</td>\n",
       "      <td>BRASS 1</td>\n",
       "      <td>BRASS</td>\n",
       "    </tr>\n",
       "    <tr>\n",
       "      <th>2</th>\n",
       "      <td>3</td>\n",
       "      <td>ADA OPEN SPACE</td>\n",
       "      <td>EXISTING PU</td>\n",
       "      <td>BRASS 1</td>\n",
       "      <td>BRASS</td>\n",
       "    </tr>\n",
       "    <tr>\n",
       "      <th>3</th>\n",
       "      <td>4</td>\n",
       "      <td>AGIP SITE (INDUSTRIAL) OPEN SPACE</td>\n",
       "      <td>EXISTING PU</td>\n",
       "      <td>BRASS 1</td>\n",
       "      <td>BRASS</td>\n",
       "    </tr>\n",
       "    <tr>\n",
       "      <th>4</th>\n",
       "      <td>5</td>\n",
       "      <td>SHIDI COMPOUND OPEN SPACE</td>\n",
       "      <td>EXISTING PU</td>\n",
       "      <td>BRASS 1</td>\n",
       "      <td>BRASS</td>\n",
       "    </tr>\n",
       "    <tr>\n",
       "      <th>...</th>\n",
       "      <td>...</td>\n",
       "      <td>...</td>\n",
       "      <td>...</td>\n",
       "      <td>...</td>\n",
       "      <td>...</td>\n",
       "    </tr>\n",
       "    <tr>\n",
       "      <th>422</th>\n",
       "      <td>8</td>\n",
       "      <td>ISHOTUBO OPEN SPACE</td>\n",
       "      <td>EXISTING PU</td>\n",
       "      <td>ZARAMA</td>\n",
       "      <td>YENAGOA</td>\n",
       "    </tr>\n",
       "    <tr>\n",
       "      <th>423</th>\n",
       "      <td>9</td>\n",
       "      <td>AFINEKI OPEN SPACE</td>\n",
       "      <td>EXISTING PU</td>\n",
       "      <td>ZARAMA</td>\n",
       "      <td>YENAGOA</td>\n",
       "    </tr>\n",
       "    <tr>\n",
       "      <th>424</th>\n",
       "      <td>10</td>\n",
       "      <td>MIDINABO PLAY GROUND</td>\n",
       "      <td>EXISTING PU</td>\n",
       "      <td>ZARAMA</td>\n",
       "      <td>YENAGOA</td>\n",
       "    </tr>\n",
       "    <tr>\n",
       "      <th>425</th>\n",
       "      <td>11</td>\n",
       "      <td>AGBA SQUARE</td>\n",
       "      <td>EXISTING PU</td>\n",
       "      <td>ZARAMA</td>\n",
       "      <td>YENAGOA</td>\n",
       "    </tr>\n",
       "    <tr>\n",
       "      <th>426</th>\n",
       "      <td>12</td>\n",
       "      <td>ISOKI-ZARAMA PLAY GROUND</td>\n",
       "      <td>NEW PU</td>\n",
       "      <td>ZARAMA</td>\n",
       "      <td>YENAGOA</td>\n",
       "    </tr>\n",
       "  </tbody>\n",
       "</table>\n",
       "<p>2237 rows × 5 columns</p>\n",
       "</div>"
      ],
      "text/plain": [
       "     Polling Unit ID                  Polling Unit Name       Remark  \\\n",
       "0                  1     TOWN COMMUNITY SCHOOL BUILDING  EXISTING PU   \n",
       "1                  2                  GBUNDU OPEN SPACE  EXISTING PU   \n",
       "2                  3                     ADA OPEN SPACE  EXISTING PU   \n",
       "3                  4  AGIP SITE (INDUSTRIAL) OPEN SPACE  EXISTING PU   \n",
       "4                  5          SHIDI COMPOUND OPEN SPACE  EXISTING PU   \n",
       "..               ...                                ...          ...   \n",
       "422                8                ISHOTUBO OPEN SPACE  EXISTING PU   \n",
       "423                9                 AFINEKI OPEN SPACE  EXISTING PU   \n",
       "424               10               MIDINABO PLAY GROUND  EXISTING PU   \n",
       "425               11                        AGBA SQUARE  EXISTING PU   \n",
       "426               12           ISOKI-ZARAMA PLAY GROUND       NEW PU   \n",
       "\n",
       "    ward_name LGA_name  \n",
       "0     BRASS 1    BRASS  \n",
       "1     BRASS 1    BRASS  \n",
       "2     BRASS 1    BRASS  \n",
       "3     BRASS 1    BRASS  \n",
       "4     BRASS 1    BRASS  \n",
       "..        ...      ...  \n",
       "422    ZARAMA  YENAGOA  \n",
       "423    ZARAMA  YENAGOA  \n",
       "424    ZARAMA  YENAGOA  \n",
       "425    ZARAMA  YENAGOA  \n",
       "426    ZARAMA  YENAGOA  \n",
       "\n",
       "[2237 rows x 5 columns]"
      ]
     },
     "execution_count": 10,
     "metadata": {},
     "output_type": "execute_result"
    }
   ],
   "source": [
    "BY2"
   ]
  },
  {
   "cell_type": "code",
   "execution_count": null,
   "id": "3d36bc70",
   "metadata": {},
   "outputs": [],
   "source": [
    "BY2['State'] = \"Bayelsa\""
   ]
  },
  {
   "cell_type": "code",
   "execution_count": null,
   "id": "65681f02",
   "metadata": {},
   "outputs": [],
   "source": [
    "BY2"
   ]
  },
  {
   "cell_type": "code",
   "execution_count": null,
   "id": "2e4def35",
   "metadata": {},
   "outputs": [],
   "source": [
    "BY.to_csv('BY_PU.csv')"
   ]
  },
  {
   "cell_type": "code",
   "execution_count": null,
   "id": "b2fded98",
   "metadata": {},
   "outputs": [],
   "source": []
  },
  {
   "cell_type": "code",
   "execution_count": null,
   "id": "74c17989",
   "metadata": {},
   "outputs": [],
   "source": []
  },
  {
   "cell_type": "code",
   "execution_count": null,
   "id": "3d902d6f",
   "metadata": {},
   "outputs": [],
   "source": []
  },
  {
   "cell_type": "code",
   "execution_count": null,
   "id": "2d3f042e",
   "metadata": {},
   "outputs": [],
   "source": []
  },
  {
   "cell_type": "code",
   "execution_count": null,
   "id": "11d68d70",
   "metadata": {},
   "outputs": [],
   "source": []
  },
  {
   "cell_type": "code",
   "execution_count": null,
   "id": "989018fc",
   "metadata": {},
   "outputs": [],
   "source": []
  },
  {
   "cell_type": "code",
   "execution_count": null,
   "id": "0e9e2e90",
   "metadata": {},
   "outputs": [],
   "source": [
    "state_index = 7\n",
    "BE = get_polling_unit(state_index)"
   ]
  },
  {
   "cell_type": "code",
   "execution_count": null,
   "id": "c1fa82af",
   "metadata": {},
   "outputs": [],
   "source": [
    "BE"
   ]
  },
  {
   "cell_type": "code",
   "execution_count": null,
   "id": "8811be18",
   "metadata": {},
   "outputs": [],
   "source": [
    "BE['State'] = \"Benue\"\n",
    "BE"
   ]
  },
  {
   "cell_type": "code",
   "execution_count": null,
   "id": "24c86925",
   "metadata": {},
   "outputs": [],
   "source": [
    "BE.to_csv('BE_PU.csv')"
   ]
  },
  {
   "cell_type": "code",
   "execution_count": null,
   "id": "78421bd9",
   "metadata": {},
   "outputs": [],
   "source": []
  },
  {
   "cell_type": "code",
   "execution_count": null,
   "id": "8df6a7a9",
   "metadata": {},
   "outputs": [],
   "source": []
  },
  {
   "cell_type": "code",
   "execution_count": null,
   "id": "0d90b216",
   "metadata": {},
   "outputs": [],
   "source": []
  },
  {
   "cell_type": "code",
   "execution_count": null,
   "id": "bf6d84a8",
   "metadata": {},
   "outputs": [],
   "source": []
  },
  {
   "cell_type": "code",
   "execution_count": null,
   "id": "17e3a8ea",
   "metadata": {},
   "outputs": [],
   "source": [
    "state_index = 8 \n",
    "BO = get_polling_unit(state_index)"
   ]
  },
  {
   "cell_type": "code",
   "execution_count": null,
   "id": "774d84be",
   "metadata": {},
   "outputs": [],
   "source": [
    "BO"
   ]
  },
  {
   "cell_type": "code",
   "execution_count": null,
   "id": "8c69bef1",
   "metadata": {},
   "outputs": [],
   "source": [
    "BO['State'] = \"Borno\"\n",
    "BO"
   ]
  },
  {
   "cell_type": "code",
   "execution_count": null,
   "id": "cb71d419",
   "metadata": {},
   "outputs": [],
   "source": [
    "BO.to_csv('BO_PU.csv')"
   ]
  },
  {
   "cell_type": "code",
   "execution_count": null,
   "id": "da2216e3",
   "metadata": {},
   "outputs": [],
   "source": []
  },
  {
   "cell_type": "code",
   "execution_count": null,
   "id": "6a082332",
   "metadata": {},
   "outputs": [],
   "source": []
  },
  {
   "cell_type": "code",
   "execution_count": null,
   "id": "592882c8",
   "metadata": {},
   "outputs": [],
   "source": []
  },
  {
   "cell_type": "code",
   "execution_count": null,
   "id": "eb6a07ed",
   "metadata": {},
   "outputs": [],
   "source": []
  },
  {
   "cell_type": "code",
   "execution_count": null,
   "id": "0fe5d7d3",
   "metadata": {},
   "outputs": [],
   "source": []
  },
  {
   "cell_type": "code",
   "execution_count": null,
   "id": "ecc75221",
   "metadata": {},
   "outputs": [],
   "source": []
  },
  {
   "cell_type": "code",
   "execution_count": null,
   "id": "f585cea6",
   "metadata": {},
   "outputs": [],
   "source": []
  },
  {
   "cell_type": "code",
   "execution_count": null,
   "id": "3c8d58ac",
   "metadata": {},
   "outputs": [],
   "source": [
    "state_index = 9 \n",
    "CR = get_polling_unit(state_index)"
   ]
  },
  {
   "cell_type": "code",
   "execution_count": null,
   "id": "2ed836f8",
   "metadata": {},
   "outputs": [],
   "source": [
    "CR"
   ]
  },
  {
   "cell_type": "code",
   "execution_count": null,
   "id": "de21d1dc",
   "metadata": {},
   "outputs": [],
   "source": [
    "CR['State'] = \"Cross River\"\n",
    "CR"
   ]
  },
  {
   "cell_type": "code",
   "execution_count": null,
   "id": "a893f5f5",
   "metadata": {},
   "outputs": [],
   "source": [
    "CR.to_csv('CR_PU.csv')"
   ]
  },
  {
   "cell_type": "code",
   "execution_count": null,
   "id": "1cede5c7",
   "metadata": {},
   "outputs": [],
   "source": []
  },
  {
   "cell_type": "code",
   "execution_count": null,
   "id": "f6411dc3",
   "metadata": {},
   "outputs": [],
   "source": []
  },
  {
   "cell_type": "code",
   "execution_count": null,
   "id": "3aac883a",
   "metadata": {},
   "outputs": [],
   "source": []
  },
  {
   "cell_type": "code",
   "execution_count": null,
   "id": "6a924727",
   "metadata": {},
   "outputs": [],
   "source": [
    "state_index = 10 \n",
    "DE = get_polling_unit(state_index)"
   ]
  },
  {
   "cell_type": "code",
   "execution_count": null,
   "id": "f42259d5",
   "metadata": {},
   "outputs": [],
   "source": [
    "DE"
   ]
  },
  {
   "cell_type": "code",
   "execution_count": null,
   "id": "242de6b5",
   "metadata": {},
   "outputs": [],
   "source": [
    "DE['State'] = \"Delta\"\n",
    "DE"
   ]
  },
  {
   "cell_type": "code",
   "execution_count": null,
   "id": "3fadd6d9",
   "metadata": {},
   "outputs": [],
   "source": [
    "DE.to_csv('DE_PU.csv')"
   ]
  },
  {
   "cell_type": "code",
   "execution_count": null,
   "id": "45b7a022",
   "metadata": {},
   "outputs": [],
   "source": []
  },
  {
   "cell_type": "code",
   "execution_count": null,
   "id": "a9b50c72",
   "metadata": {},
   "outputs": [],
   "source": []
  },
  {
   "cell_type": "code",
   "execution_count": null,
   "id": "296a88ce",
   "metadata": {},
   "outputs": [],
   "source": []
  },
  {
   "cell_type": "code",
   "execution_count": null,
   "id": "cd60462e",
   "metadata": {},
   "outputs": [],
   "source": []
  },
  {
   "cell_type": "code",
   "execution_count": null,
   "id": "f9ab58ba",
   "metadata": {},
   "outputs": [],
   "source": []
  },
  {
   "cell_type": "code",
   "execution_count": null,
   "id": "67d4156f",
   "metadata": {},
   "outputs": [],
   "source": [
    "state_index = 11 \n",
    "EB = get_polling_unit(state_index)"
   ]
  },
  {
   "cell_type": "code",
   "execution_count": null,
   "id": "e51d9042",
   "metadata": {},
   "outputs": [],
   "source": [
    "EB"
   ]
  },
  {
   "cell_type": "code",
   "execution_count": null,
   "id": "8652dc44",
   "metadata": {},
   "outputs": [],
   "source": [
    "EB['State'] = \"Ebonyi\"\n",
    "EB"
   ]
  },
  {
   "cell_type": "code",
   "execution_count": null,
   "id": "f9e69cd0",
   "metadata": {},
   "outputs": [],
   "source": [
    "EB.to_csv('EB_PU.csv')"
   ]
  },
  {
   "cell_type": "code",
   "execution_count": null,
   "id": "77286daf",
   "metadata": {},
   "outputs": [],
   "source": []
  },
  {
   "cell_type": "code",
   "execution_count": null,
   "id": "beae073c",
   "metadata": {},
   "outputs": [],
   "source": []
  },
  {
   "cell_type": "code",
   "execution_count": null,
   "id": "245c9f8d",
   "metadata": {},
   "outputs": [],
   "source": []
  },
  {
   "cell_type": "code",
   "execution_count": null,
   "id": "2636d70e",
   "metadata": {},
   "outputs": [],
   "source": []
  },
  {
   "cell_type": "code",
   "execution_count": null,
   "id": "6bc9a662",
   "metadata": {},
   "outputs": [],
   "source": [
    "state_index = 12 \n",
    "ED = get_polling_unit(state_index)"
   ]
  },
  {
   "cell_type": "code",
   "execution_count": null,
   "id": "11d9de90",
   "metadata": {},
   "outputs": [],
   "source": [
    "ED"
   ]
  },
  {
   "cell_type": "code",
   "execution_count": null,
   "id": "c1a65b73",
   "metadata": {},
   "outputs": [],
   "source": [
    "ED['State'] = \"Edo\" \n",
    "ED"
   ]
  },
  {
   "cell_type": "code",
   "execution_count": null,
   "id": "d28dbced",
   "metadata": {},
   "outputs": [],
   "source": [
    "ED.to_csv('ED_PU.csv')"
   ]
  },
  {
   "cell_type": "code",
   "execution_count": null,
   "id": "a2a63c78",
   "metadata": {},
   "outputs": [],
   "source": []
  },
  {
   "cell_type": "code",
   "execution_count": null,
   "id": "39b38426",
   "metadata": {},
   "outputs": [],
   "source": []
  },
  {
   "cell_type": "code",
   "execution_count": null,
   "id": "7910ca63",
   "metadata": {},
   "outputs": [],
   "source": []
  },
  {
   "cell_type": "code",
   "execution_count": null,
   "id": "d5717131",
   "metadata": {},
   "outputs": [],
   "source": [
    "state_index = 13 \n",
    "EK = get_polling_unit(state_index)"
   ]
  },
  {
   "cell_type": "code",
   "execution_count": null,
   "id": "122443db",
   "metadata": {},
   "outputs": [],
   "source": [
    "EK"
   ]
  },
  {
   "cell_type": "code",
   "execution_count": null,
   "id": "ed7db7b3",
   "metadata": {},
   "outputs": [],
   "source": [
    "EK['State'] = \"Ekiti\"\n",
    "EK"
   ]
  },
  {
   "cell_type": "code",
   "execution_count": null,
   "id": "4b2ea7bc",
   "metadata": {},
   "outputs": [],
   "source": [
    "EK.to_csv('EK_PU.csv')"
   ]
  },
  {
   "cell_type": "code",
   "execution_count": null,
   "id": "cbd0d561",
   "metadata": {},
   "outputs": [],
   "source": []
  },
  {
   "cell_type": "code",
   "execution_count": null,
   "id": "c6269d91",
   "metadata": {},
   "outputs": [],
   "source": []
  },
  {
   "cell_type": "code",
   "execution_count": null,
   "id": "d3b06ede",
   "metadata": {},
   "outputs": [],
   "source": []
  },
  {
   "cell_type": "code",
   "execution_count": null,
   "id": "fdde6234",
   "metadata": {},
   "outputs": [],
   "source": [
    "state_index = 14 \n",
    "EN = get_polling_unit(state_index)"
   ]
  },
  {
   "cell_type": "code",
   "execution_count": null,
   "id": "15b03f13",
   "metadata": {},
   "outputs": [],
   "source": [
    "EN"
   ]
  },
  {
   "cell_type": "code",
   "execution_count": null,
   "id": "0f0c1523",
   "metadata": {},
   "outputs": [],
   "source": [
    "EN['State'] = \"Enugu\"\n",
    "EN"
   ]
  },
  {
   "cell_type": "code",
   "execution_count": null,
   "id": "fb14a8f0",
   "metadata": {},
   "outputs": [],
   "source": [
    "EN.to_csv('EN_PU.csv')"
   ]
  },
  {
   "cell_type": "code",
   "execution_count": null,
   "id": "d566cf88",
   "metadata": {},
   "outputs": [],
   "source": []
  },
  {
   "cell_type": "code",
   "execution_count": null,
   "id": "d6061cdb",
   "metadata": {},
   "outputs": [],
   "source": []
  },
  {
   "cell_type": "code",
   "execution_count": null,
   "id": "e7981b76",
   "metadata": {},
   "outputs": [],
   "source": []
  },
  {
   "cell_type": "code",
   "execution_count": null,
   "id": "8fb40ce7",
   "metadata": {},
   "outputs": [],
   "source": [
    "state_index = 15 \n",
    "FCT = get_polling_unit(state_index)"
   ]
  },
  {
   "cell_type": "code",
   "execution_count": null,
   "id": "a14d0986",
   "metadata": {},
   "outputs": [],
   "source": [
    "FCT"
   ]
  },
  {
   "cell_type": "code",
   "execution_count": null,
   "id": "8b6947f8",
   "metadata": {},
   "outputs": [],
   "source": [
    "FCT['Satate'] = \"FCT\"\n",
    "FCT"
   ]
  },
  {
   "cell_type": "code",
   "execution_count": null,
   "id": "fa41ebc8",
   "metadata": {},
   "outputs": [],
   "source": [
    "FCT.to_csv('FCT_PU.csv')"
   ]
  },
  {
   "cell_type": "code",
   "execution_count": null,
   "id": "24a87722",
   "metadata": {},
   "outputs": [],
   "source": []
  },
  {
   "cell_type": "code",
   "execution_count": null,
   "id": "bcf24ffa",
   "metadata": {},
   "outputs": [],
   "source": []
  },
  {
   "cell_type": "code",
   "execution_count": null,
   "id": "0d4fad78",
   "metadata": {},
   "outputs": [],
   "source": [
    "state_index = 16 \n",
    "GM = get_polling_unit(state_index)"
   ]
  },
  {
   "cell_type": "code",
   "execution_count": null,
   "id": "3e4d14d8",
   "metadata": {},
   "outputs": [],
   "source": [
    "GM"
   ]
  },
  {
   "cell_type": "code",
   "execution_count": null,
   "id": "9970d0e2",
   "metadata": {},
   "outputs": [],
   "source": [
    "GM['State'] = \"Gombe\"\n",
    "GM"
   ]
  },
  {
   "cell_type": "code",
   "execution_count": null,
   "id": "fef94333",
   "metadata": {},
   "outputs": [],
   "source": [
    "GM.to_csv('GM_PU.csv')"
   ]
  },
  {
   "cell_type": "code",
   "execution_count": null,
   "id": "533c07f3",
   "metadata": {},
   "outputs": [],
   "source": []
  },
  {
   "cell_type": "code",
   "execution_count": null,
   "id": "7bb00a0a",
   "metadata": {},
   "outputs": [],
   "source": []
  },
  {
   "cell_type": "code",
   "execution_count": null,
   "id": "bedbbc02",
   "metadata": {},
   "outputs": [],
   "source": []
  },
  {
   "cell_type": "code",
   "execution_count": null,
   "id": "22a8bf35",
   "metadata": {},
   "outputs": [],
   "source": []
  },
  {
   "cell_type": "code",
   "execution_count": null,
   "id": "5cf94803",
   "metadata": {},
   "outputs": [],
   "source": [
    "state_index = 17 \n",
    "IM = get_polling_unit(state_index)"
   ]
  },
  {
   "cell_type": "code",
   "execution_count": null,
   "id": "c4434d4f",
   "metadata": {},
   "outputs": [],
   "source": [
    "IM"
   ]
  },
  {
   "cell_type": "code",
   "execution_count": null,
   "id": "f2ac1060",
   "metadata": {},
   "outputs": [],
   "source": [
    "IM['State'] = \"Imo\"\n",
    "IM"
   ]
  },
  {
   "cell_type": "code",
   "execution_count": null,
   "id": "f73f7609",
   "metadata": {},
   "outputs": [],
   "source": [
    "IM.to_csv('IM_PU.csv')"
   ]
  },
  {
   "cell_type": "code",
   "execution_count": null,
   "id": "fe8f7c9a",
   "metadata": {},
   "outputs": [],
   "source": []
  },
  {
   "cell_type": "code",
   "execution_count": null,
   "id": "1ea5bb2c",
   "metadata": {},
   "outputs": [],
   "source": []
  },
  {
   "cell_type": "code",
   "execution_count": null,
   "id": "268858d0",
   "metadata": {},
   "outputs": [],
   "source": []
  },
  {
   "cell_type": "code",
   "execution_count": null,
   "id": "b5e0b99d",
   "metadata": {},
   "outputs": [],
   "source": [
    "state_index = 18 \n",
    "JI = get_polling_unit(state_index)"
   ]
  },
  {
   "cell_type": "code",
   "execution_count": null,
   "id": "8b64890a",
   "metadata": {},
   "outputs": [],
   "source": [
    "JI"
   ]
  },
  {
   "cell_type": "code",
   "execution_count": null,
   "id": "f54923c2",
   "metadata": {},
   "outputs": [],
   "source": [
    "JI[\"State\"] = \"Jigawa\"\n",
    "JI"
   ]
  },
  {
   "cell_type": "code",
   "execution_count": null,
   "id": "148c6412",
   "metadata": {},
   "outputs": [],
   "source": [
    "JI.to_csv('JI_PU.csv')"
   ]
  },
  {
   "cell_type": "code",
   "execution_count": null,
   "id": "59bb7614",
   "metadata": {},
   "outputs": [],
   "source": []
  },
  {
   "cell_type": "code",
   "execution_count": null,
   "id": "56631b7f",
   "metadata": {},
   "outputs": [],
   "source": []
  },
  {
   "cell_type": "code",
   "execution_count": null,
   "id": "ef91e667",
   "metadata": {},
   "outputs": [],
   "source": []
  },
  {
   "cell_type": "code",
   "execution_count": null,
   "id": "f2ef945a",
   "metadata": {},
   "outputs": [],
   "source": []
  },
  {
   "cell_type": "code",
   "execution_count": null,
   "id": "bb65b1d9",
   "metadata": {},
   "outputs": [],
   "source": [
    "state_index = 19 \n",
    "KD = get_polling_unit(state_index)"
   ]
  },
  {
   "cell_type": "code",
   "execution_count": null,
   "id": "d279c260",
   "metadata": {},
   "outputs": [],
   "source": [
    "KD"
   ]
  },
  {
   "cell_type": "code",
   "execution_count": null,
   "id": "b536c28c",
   "metadata": {},
   "outputs": [],
   "source": [
    "KD['State'] = \"Kaduna\"\n",
    "KD"
   ]
  },
  {
   "cell_type": "code",
   "execution_count": null,
   "id": "6be4367b",
   "metadata": {},
   "outputs": [],
   "source": [
    "KD.to_csv('KD_PU.csv')"
   ]
  },
  {
   "cell_type": "code",
   "execution_count": null,
   "id": "66590fca",
   "metadata": {},
   "outputs": [],
   "source": []
  },
  {
   "cell_type": "code",
   "execution_count": null,
   "id": "c1144c4e",
   "metadata": {},
   "outputs": [],
   "source": []
  },
  {
   "cell_type": "code",
   "execution_count": null,
   "id": "2e2bf2ef",
   "metadata": {},
   "outputs": [],
   "source": []
  },
  {
   "cell_type": "code",
   "execution_count": null,
   "id": "9740ee4d",
   "metadata": {},
   "outputs": [],
   "source": [
    "state_index = 20 \n",
    "KN = get_polling_unit(state_index)"
   ]
  },
  {
   "cell_type": "code",
   "execution_count": null,
   "id": "5e61b7a5",
   "metadata": {},
   "outputs": [],
   "source": [
    "KN"
   ]
  },
  {
   "cell_type": "code",
   "execution_count": null,
   "id": "42c1638e",
   "metadata": {},
   "outputs": [],
   "source": [
    "KN['State'] = \"Kano\"\n",
    "KN"
   ]
  },
  {
   "cell_type": "code",
   "execution_count": null,
   "id": "5fb6b777",
   "metadata": {},
   "outputs": [],
   "source": [
    "KN.to_csv('KN_PU.csv')"
   ]
  },
  {
   "cell_type": "code",
   "execution_count": null,
   "id": "94c35860",
   "metadata": {},
   "outputs": [],
   "source": []
  },
  {
   "cell_type": "code",
   "execution_count": null,
   "id": "be2c4172",
   "metadata": {},
   "outputs": [],
   "source": []
  },
  {
   "cell_type": "code",
   "execution_count": null,
   "id": "3de4a487",
   "metadata": {},
   "outputs": [],
   "source": []
  },
  {
   "cell_type": "code",
   "execution_count": null,
   "id": "ab5c8845",
   "metadata": {},
   "outputs": [],
   "source": []
  },
  {
   "cell_type": "code",
   "execution_count": null,
   "id": "5bccd9d6",
   "metadata": {},
   "outputs": [],
   "source": [
    "state_index = 21 \n",
    "KT = get_polling_unit(state_index)"
   ]
  },
  {
   "cell_type": "code",
   "execution_count": null,
   "id": "f7622e9c",
   "metadata": {},
   "outputs": [],
   "source": [
    "KT"
   ]
  },
  {
   "cell_type": "code",
   "execution_count": null,
   "id": "83fbba34",
   "metadata": {},
   "outputs": [],
   "source": [
    "KT['State'] = \"Katsina\"\n",
    "KT"
   ]
  },
  {
   "cell_type": "code",
   "execution_count": null,
   "id": "6c88f738",
   "metadata": {},
   "outputs": [],
   "source": [
    "KT.to_csv('KT_PU.csv')"
   ]
  },
  {
   "cell_type": "code",
   "execution_count": null,
   "id": "309123e9",
   "metadata": {},
   "outputs": [],
   "source": []
  },
  {
   "cell_type": "code",
   "execution_count": null,
   "id": "714fe82c",
   "metadata": {},
   "outputs": [],
   "source": []
  },
  {
   "cell_type": "code",
   "execution_count": null,
   "id": "6268d523",
   "metadata": {},
   "outputs": [],
   "source": [
    "state_index = 22 \n",
    "KE = get_polling_unit(state_index)"
   ]
  },
  {
   "cell_type": "code",
   "execution_count": null,
   "id": "29373626",
   "metadata": {},
   "outputs": [],
   "source": [
    "KE"
   ]
  },
  {
   "cell_type": "code",
   "execution_count": null,
   "id": "403bf2e1",
   "metadata": {},
   "outputs": [],
   "source": [
    "KE['State'] = \"Kebbi\"\n",
    "KE"
   ]
  },
  {
   "cell_type": "code",
   "execution_count": null,
   "id": "17ddd5d9",
   "metadata": {},
   "outputs": [],
   "source": [
    "KE.to_csv('KE_PU.csv')"
   ]
  },
  {
   "cell_type": "code",
   "execution_count": null,
   "id": "3e705003",
   "metadata": {},
   "outputs": [],
   "source": []
  },
  {
   "cell_type": "code",
   "execution_count": null,
   "id": "08cab388",
   "metadata": {},
   "outputs": [],
   "source": []
  },
  {
   "cell_type": "code",
   "execution_count": null,
   "id": "4fb0afec",
   "metadata": {},
   "outputs": [],
   "source": []
  },
  {
   "cell_type": "code",
   "execution_count": null,
   "id": "8602c13b",
   "metadata": {},
   "outputs": [],
   "source": [
    "state_index = 23 \n",
    "KG = get_polling_unit(state_index)"
   ]
  },
  {
   "cell_type": "code",
   "execution_count": null,
   "id": "1c8b7073",
   "metadata": {},
   "outputs": [],
   "source": [
    "KG"
   ]
  },
  {
   "cell_type": "code",
   "execution_count": null,
   "id": "43855700",
   "metadata": {},
   "outputs": [],
   "source": [
    "KG['State'] = \"Kogi\"\n",
    "KG"
   ]
  },
  {
   "cell_type": "code",
   "execution_count": null,
   "id": "c75a43f8",
   "metadata": {},
   "outputs": [],
   "source": [
    "KG.to_csv('KG_PU.csv')"
   ]
  },
  {
   "cell_type": "code",
   "execution_count": null,
   "id": "44baedea",
   "metadata": {},
   "outputs": [],
   "source": []
  },
  {
   "cell_type": "code",
   "execution_count": null,
   "id": "38f53783",
   "metadata": {},
   "outputs": [],
   "source": []
  },
  {
   "cell_type": "code",
   "execution_count": null,
   "id": "4ab7e643",
   "metadata": {},
   "outputs": [],
   "source": []
  },
  {
   "cell_type": "code",
   "execution_count": null,
   "id": "83333229",
   "metadata": {},
   "outputs": [],
   "source": [
    "state_index = 24 \n",
    "KW = get_polling_unit(state_index)"
   ]
  },
  {
   "cell_type": "code",
   "execution_count": null,
   "id": "0ced77ca",
   "metadata": {},
   "outputs": [],
   "source": [
    "KW"
   ]
  },
  {
   "cell_type": "code",
   "execution_count": null,
   "id": "d3204800",
   "metadata": {},
   "outputs": [],
   "source": [
    "KW['State'] = \"Kwara\"\n",
    "KW"
   ]
  },
  {
   "cell_type": "code",
   "execution_count": null,
   "id": "10dbd137",
   "metadata": {},
   "outputs": [],
   "source": [
    "KW.to_csv(\"KW_PU.csv\")"
   ]
  },
  {
   "cell_type": "code",
   "execution_count": null,
   "id": "8ddb1f47",
   "metadata": {},
   "outputs": [],
   "source": []
  },
  {
   "cell_type": "code",
   "execution_count": null,
   "id": "7d25b68e",
   "metadata": {},
   "outputs": [],
   "source": [
    "state_index = 25 \n",
    "LA = get_polling_unit(state_index)"
   ]
  },
  {
   "cell_type": "code",
   "execution_count": null,
   "id": "3b3c3353",
   "metadata": {},
   "outputs": [],
   "source": [
    "LA"
   ]
  },
  {
   "cell_type": "code",
   "execution_count": null,
   "id": "a44e89e7",
   "metadata": {},
   "outputs": [],
   "source": [
    "LA['State'] = \"Lagos\"\n",
    "LA"
   ]
  },
  {
   "cell_type": "code",
   "execution_count": null,
   "id": "e62c42fe",
   "metadata": {},
   "outputs": [],
   "source": [
    "LA.to_csv('LA_PU.csv')"
   ]
  },
  {
   "cell_type": "code",
   "execution_count": null,
   "id": "6b59b48c",
   "metadata": {},
   "outputs": [],
   "source": []
  },
  {
   "cell_type": "code",
   "execution_count": null,
   "id": "995c6a35",
   "metadata": {},
   "outputs": [],
   "source": []
  },
  {
   "cell_type": "code",
   "execution_count": null,
   "id": "85671d3d",
   "metadata": {},
   "outputs": [],
   "source": []
  },
  {
   "cell_type": "code",
   "execution_count": null,
   "id": "b5085ed3",
   "metadata": {},
   "outputs": [],
   "source": [
    "state_index = 26 \n",
    "NA = get_polling_unit(state_index)"
   ]
  },
  {
   "cell_type": "code",
   "execution_count": null,
   "id": "3ba28fb3",
   "metadata": {},
   "outputs": [],
   "source": [
    "NA"
   ]
  },
  {
   "cell_type": "code",
   "execution_count": null,
   "id": "602b7542",
   "metadata": {},
   "outputs": [],
   "source": [
    "NA['State'] = \"Nasarawa\"\n",
    "NA"
   ]
  },
  {
   "cell_type": "code",
   "execution_count": null,
   "id": "2f35f89b",
   "metadata": {},
   "outputs": [],
   "source": [
    "NA.to_csv('NA_PU.csv')"
   ]
  },
  {
   "cell_type": "code",
   "execution_count": null,
   "id": "5f065dfe",
   "metadata": {},
   "outputs": [],
   "source": []
  },
  {
   "cell_type": "code",
   "execution_count": null,
   "id": "86d02835",
   "metadata": {},
   "outputs": [],
   "source": []
  },
  {
   "cell_type": "code",
   "execution_count": null,
   "id": "c637a269",
   "metadata": {},
   "outputs": [],
   "source": [
    "state_index = 27 \n",
    "NI = get_polling_unit(state_index)"
   ]
  },
  {
   "cell_type": "code",
   "execution_count": null,
   "id": "f54b8d7d",
   "metadata": {},
   "outputs": [],
   "source": [
    "NI"
   ]
  },
  {
   "cell_type": "code",
   "execution_count": null,
   "id": "beaf3726",
   "metadata": {},
   "outputs": [],
   "source": [
    "NI['State'] = \"Niger\"\n",
    "NI"
   ]
  },
  {
   "cell_type": "code",
   "execution_count": null,
   "id": "40c44b51",
   "metadata": {},
   "outputs": [],
   "source": [
    "NI.to_csv('NI_PU.csv')"
   ]
  },
  {
   "cell_type": "code",
   "execution_count": null,
   "id": "29c33b92",
   "metadata": {},
   "outputs": [],
   "source": []
  },
  {
   "cell_type": "code",
   "execution_count": null,
   "id": "621828cb",
   "metadata": {},
   "outputs": [],
   "source": []
  },
  {
   "cell_type": "code",
   "execution_count": null,
   "id": "6f94c861",
   "metadata": {},
   "outputs": [],
   "source": [
    "state_index = 28 \n",
    "OG = get_polling_unit(state_index)"
   ]
  },
  {
   "cell_type": "code",
   "execution_count": null,
   "id": "9a015790",
   "metadata": {},
   "outputs": [],
   "source": [
    "OG"
   ]
  },
  {
   "cell_type": "code",
   "execution_count": null,
   "id": "06987464",
   "metadata": {},
   "outputs": [],
   "source": [
    "OG['State'] = \"Ogun\"\n",
    "OG"
   ]
  },
  {
   "cell_type": "code",
   "execution_count": null,
   "id": "502825b6",
   "metadata": {},
   "outputs": [],
   "source": [
    "OG.to_csv('OG_PU.csv')"
   ]
  },
  {
   "cell_type": "code",
   "execution_count": null,
   "id": "c018885d",
   "metadata": {},
   "outputs": [],
   "source": []
  },
  {
   "cell_type": "code",
   "execution_count": null,
   "id": "bc125604",
   "metadata": {},
   "outputs": [],
   "source": []
  },
  {
   "cell_type": "code",
   "execution_count": null,
   "id": "4f6e7d68",
   "metadata": {},
   "outputs": [],
   "source": []
  },
  {
   "cell_type": "code",
   "execution_count": null,
   "id": "ca5df8f6",
   "metadata": {},
   "outputs": [],
   "source": [
    "state_index = 29 \n",
    "ON = get_polling_unit(state_index)"
   ]
  },
  {
   "cell_type": "code",
   "execution_count": null,
   "id": "3a78df57",
   "metadata": {},
   "outputs": [],
   "source": [
    "ON"
   ]
  },
  {
   "cell_type": "code",
   "execution_count": null,
   "id": "ad7c1e20",
   "metadata": {},
   "outputs": [],
   "source": [
    "ON['State'] = \"Ondo\"\n",
    "ON"
   ]
  },
  {
   "cell_type": "code",
   "execution_count": null,
   "id": "7f52fb40",
   "metadata": {},
   "outputs": [],
   "source": [
    "ON.to_csv('ON_PU.csv')"
   ]
  },
  {
   "cell_type": "code",
   "execution_count": null,
   "id": "94ae9883",
   "metadata": {},
   "outputs": [],
   "source": []
  },
  {
   "cell_type": "code",
   "execution_count": null,
   "id": "80caefd2",
   "metadata": {},
   "outputs": [],
   "source": []
  },
  {
   "cell_type": "code",
   "execution_count": null,
   "id": "aebaec0f",
   "metadata": {},
   "outputs": [],
   "source": [
    "state_index = 30 \n",
    "OS = get_polling_unit(state_index)"
   ]
  },
  {
   "cell_type": "code",
   "execution_count": null,
   "id": "4412ab60",
   "metadata": {},
   "outputs": [],
   "source": [
    "OS"
   ]
  },
  {
   "cell_type": "code",
   "execution_count": null,
   "id": "80b44f11",
   "metadata": {},
   "outputs": [],
   "source": [
    "OS['State'] = \"Osun\"\n",
    "OS"
   ]
  },
  {
   "cell_type": "code",
   "execution_count": null,
   "id": "92accbcb",
   "metadata": {},
   "outputs": [],
   "source": [
    "OS.to_csv('OS_PU.csv')"
   ]
  },
  {
   "cell_type": "code",
   "execution_count": null,
   "id": "cef0a1a0",
   "metadata": {},
   "outputs": [],
   "source": []
  },
  {
   "cell_type": "code",
   "execution_count": null,
   "id": "8e82e43c",
   "metadata": {},
   "outputs": [],
   "source": []
  },
  {
   "cell_type": "code",
   "execution_count": null,
   "id": "43c2f908",
   "metadata": {},
   "outputs": [],
   "source": [
    "state_index = 31 \n",
    "OY = get_polling_unit(state_index)"
   ]
  },
  {
   "cell_type": "code",
   "execution_count": null,
   "id": "b761a502",
   "metadata": {},
   "outputs": [],
   "source": [
    "OY"
   ]
  },
  {
   "cell_type": "code",
   "execution_count": null,
   "id": "88d56952",
   "metadata": {},
   "outputs": [],
   "source": [
    "OY['State'] = \"Oyo\"\n",
    "OY"
   ]
  },
  {
   "cell_type": "code",
   "execution_count": null,
   "id": "0892470d",
   "metadata": {},
   "outputs": [],
   "source": [
    "OY.to_csv('OY_PU.csv')"
   ]
  },
  {
   "cell_type": "code",
   "execution_count": null,
   "id": "d73ac2f5",
   "metadata": {},
   "outputs": [],
   "source": []
  },
  {
   "cell_type": "code",
   "execution_count": null,
   "id": "8191257d",
   "metadata": {},
   "outputs": [],
   "source": []
  },
  {
   "cell_type": "code",
   "execution_count": null,
   "id": "08b3c3c7",
   "metadata": {},
   "outputs": [],
   "source": [
    "state_index = 32 \n",
    "PL = get_polling_unit(state_index)"
   ]
  },
  {
   "cell_type": "code",
   "execution_count": null,
   "id": "c1766bf3",
   "metadata": {},
   "outputs": [],
   "source": [
    "PL"
   ]
  },
  {
   "cell_type": "code",
   "execution_count": null,
   "id": "4f8f7c51",
   "metadata": {},
   "outputs": [],
   "source": [
    "PL['State'] = \"Plateau\"\n",
    "PL"
   ]
  },
  {
   "cell_type": "code",
   "execution_count": null,
   "id": "d1b74500",
   "metadata": {},
   "outputs": [],
   "source": [
    "PL.to_csv('PL_PU.csv')"
   ]
  },
  {
   "cell_type": "code",
   "execution_count": null,
   "id": "4728b749",
   "metadata": {},
   "outputs": [],
   "source": []
  },
  {
   "cell_type": "code",
   "execution_count": null,
   "id": "56cf06d4",
   "metadata": {},
   "outputs": [],
   "source": []
  },
  {
   "cell_type": "code",
   "execution_count": null,
   "id": "58693a77",
   "metadata": {},
   "outputs": [],
   "source": [
    "state_index = 33 \n",
    "RI = get_polling_unit(state_index)"
   ]
  },
  {
   "cell_type": "code",
   "execution_count": null,
   "id": "d73bcc0d",
   "metadata": {},
   "outputs": [],
   "source": [
    "RI"
   ]
  },
  {
   "cell_type": "code",
   "execution_count": null,
   "id": "89acf170",
   "metadata": {},
   "outputs": [],
   "source": [
    "RI['State'] = \"Rivers\"\n",
    "RI"
   ]
  },
  {
   "cell_type": "code",
   "execution_count": null,
   "id": "6517277d",
   "metadata": {},
   "outputs": [],
   "source": [
    "RI.to_csv('RI_PU.csv')"
   ]
  },
  {
   "cell_type": "code",
   "execution_count": null,
   "id": "4cfc42c4",
   "metadata": {},
   "outputs": [],
   "source": []
  },
  {
   "cell_type": "code",
   "execution_count": null,
   "id": "b3319a27",
   "metadata": {},
   "outputs": [],
   "source": []
  },
  {
   "cell_type": "code",
   "execution_count": null,
   "id": "9f4b7054",
   "metadata": {},
   "outputs": [],
   "source": [
    "state_index = 34 \n",
    "SO = get_polling_unit(state_index)"
   ]
  },
  {
   "cell_type": "code",
   "execution_count": null,
   "id": "896ef980",
   "metadata": {},
   "outputs": [],
   "source": [
    "SO"
   ]
  },
  {
   "cell_type": "code",
   "execution_count": null,
   "id": "1bda89c3",
   "metadata": {},
   "outputs": [],
   "source": [
    "SO['State'] = \"Sokoto\"\n",
    "SO"
   ]
  },
  {
   "cell_type": "code",
   "execution_count": null,
   "id": "ef1b1b48",
   "metadata": {},
   "outputs": [],
   "source": [
    "SO.to_csv('SO_PU.csv')"
   ]
  },
  {
   "cell_type": "code",
   "execution_count": null,
   "id": "a938feac",
   "metadata": {},
   "outputs": [],
   "source": []
  },
  {
   "cell_type": "code",
   "execution_count": null,
   "id": "03db2447",
   "metadata": {},
   "outputs": [],
   "source": []
  },
  {
   "cell_type": "code",
   "execution_count": null,
   "id": "8fb3b230",
   "metadata": {},
   "outputs": [],
   "source": [
    "state_index = 35 \n",
    "TA = get_polling_unit(state_index)"
   ]
  },
  {
   "cell_type": "code",
   "execution_count": null,
   "id": "4124b0bb",
   "metadata": {},
   "outputs": [],
   "source": [
    "TA"
   ]
  },
  {
   "cell_type": "code",
   "execution_count": null,
   "id": "93179e05",
   "metadata": {},
   "outputs": [],
   "source": [
    "TA['State'] = \"Taraba\"\n",
    "TA"
   ]
  },
  {
   "cell_type": "code",
   "execution_count": null,
   "id": "467e011e",
   "metadata": {},
   "outputs": [],
   "source": [
    "TA.to_csv('TA_PU.csv')"
   ]
  },
  {
   "cell_type": "code",
   "execution_count": null,
   "id": "0ac9d199",
   "metadata": {},
   "outputs": [],
   "source": []
  },
  {
   "cell_type": "code",
   "execution_count": null,
   "id": "808ee7f2",
   "metadata": {},
   "outputs": [],
   "source": []
  },
  {
   "cell_type": "code",
   "execution_count": null,
   "id": "0cb467df",
   "metadata": {},
   "outputs": [],
   "source": []
  },
  {
   "cell_type": "code",
   "execution_count": null,
   "id": "887ec63e",
   "metadata": {},
   "outputs": [],
   "source": [
    "state_index = 36 \n",
    "YO = get_polling_unit(state_index)"
   ]
  },
  {
   "cell_type": "code",
   "execution_count": null,
   "id": "cdc65a15",
   "metadata": {},
   "outputs": [],
   "source": [
    "YO"
   ]
  },
  {
   "cell_type": "code",
   "execution_count": null,
   "id": "019e6666",
   "metadata": {},
   "outputs": [],
   "source": [
    "YO['State'] = \"Yobe\"\n",
    "YO"
   ]
  },
  {
   "cell_type": "code",
   "execution_count": null,
   "id": "a643931d",
   "metadata": {},
   "outputs": [],
   "source": [
    "YO.to_csv('YO_PU.csv')"
   ]
  },
  {
   "cell_type": "code",
   "execution_count": null,
   "id": "58585927",
   "metadata": {},
   "outputs": [],
   "source": []
  },
  {
   "cell_type": "code",
   "execution_count": null,
   "id": "191b0afc",
   "metadata": {},
   "outputs": [],
   "source": []
  },
  {
   "cell_type": "code",
   "execution_count": null,
   "id": "e19a2802",
   "metadata": {},
   "outputs": [],
   "source": []
  },
  {
   "cell_type": "code",
   "execution_count": null,
   "id": "761d0c6a",
   "metadata": {},
   "outputs": [],
   "source": [
    "state_index = 37 \n",
    "ZA = get_polling_unit(state_index)"
   ]
  },
  {
   "cell_type": "code",
   "execution_count": null,
   "id": "c616b73d",
   "metadata": {},
   "outputs": [],
   "source": [
    "ZA"
   ]
  },
  {
   "cell_type": "code",
   "execution_count": null,
   "id": "d1d03878",
   "metadata": {},
   "outputs": [],
   "source": [
    "ZA['State'] = \"Zamfara\"\n",
    "ZA"
   ]
  },
  {
   "cell_type": "code",
   "execution_count": null,
   "id": "9e1dd33c",
   "metadata": {},
   "outputs": [],
   "source": [
    "ZA.to_csv('ZA_PU.csv')"
   ]
  },
  {
   "cell_type": "code",
   "execution_count": null,
   "id": "213d9e3d",
   "metadata": {},
   "outputs": [],
   "source": [
    "state_poll = [AB, AD, AK, AN, BA, BY, BE, BO, CR, DE, \n",
    "                 EB, ED, EK, EN, FCT, GO, IM, JI, KD, KN, \n",
    "                 KT, KE, KG, KW, LA, NA, NI, OG, ON, OS, \n",
    "                 OY, PL, RI, SO, TA, YO, ZA]"
   ]
  },
  {
   "cell_type": "code",
   "execution_count": null,
   "id": "e93ec2b7",
   "metadata": {},
   "outputs": [],
   "source": [
    "comb = pd.concat(state_poll)"
   ]
  },
  {
   "cell_type": "code",
   "execution_count": null,
   "id": "db284060",
   "metadata": {},
   "outputs": [],
   "source": []
  },
  {
   "cell_type": "code",
   "execution_count": null,
   "id": "a6a51705",
   "metadata": {},
   "outputs": [],
   "source": []
  },
  {
   "cell_type": "code",
   "execution_count": null,
   "id": "248640db",
   "metadata": {},
   "outputs": [],
   "source": []
  }
 ],
 "metadata": {
  "kernelspec": {
   "display_name": "Python 3 (ipykernel)",
   "language": "python",
   "name": "python3"
  },
  "language_info": {
   "codemirror_mode": {
    "name": "ipython",
    "version": 3
   },
   "file_extension": ".py",
   "mimetype": "text/x-python",
   "name": "python",
   "nbconvert_exporter": "python",
   "pygments_lexer": "ipython3",
   "version": "3.10.9"
  }
 },
 "nbformat": 4,
 "nbformat_minor": 5
}
